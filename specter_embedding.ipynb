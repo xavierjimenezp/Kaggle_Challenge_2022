{
 "cells": [
  {
   "cell_type": "markdown",
   "id": "1c2ef97e",
   "metadata": {},
   "source": [
    "<center><h2>ALTEGRAD Project</h2>\n",
    "\n",
    "<hr>\n",
    "<span style=\"font-variant: small-caps;\">Xavier Jiménez, Jean Quentin, Sacha Revol</span><br>\n",
    "<hr>\n",
    "</center>"
   ]
  },
  {
   "cell_type": "markdown",
   "id": "ffdd5ec9",
   "metadata": {},
   "source": [
    "# Imports"
   ]
  },
  {
   "cell_type": "code",
   "execution_count": 7,
   "id": "b3657d53-9255-41bf-aaf7-21f4033e92a6",
   "metadata": {
    "id": "b3657d53-9255-41bf-aaf7-21f4033e92a6"
   },
   "outputs": [],
   "source": [
    "import networkx as nx\n",
    "import csv\n",
    "import numpy as np\n",
    "from random import randint\n",
    "from sklearn.linear_model import LogisticRegression\n",
    "import torch\n",
    "\n",
    "from sklearn.metrics.pairwise import cosine_similarity\n",
    "import pandas as pd\n",
    "from sklearn.model_selection import train_test_split\n",
    "from tqdm import tqdm\n",
    "import pandas as pd\n",
    "\n",
    "from sentence_transformers import SentenceTransformer, InputExample, losses\n",
    "from torch.utils.data import DataLoader\n",
    "from transformers import AutoModel, AutoTokenizer\n"
   ]
  },
  {
   "cell_type": "markdown",
   "id": "740de4ae",
   "metadata": {},
   "source": [
    "# Load data"
   ]
  },
  {
   "cell_type": "code",
   "execution_count": 10,
   "id": "kHcb2wHWqVEd",
   "metadata": {
    "id": "kHcb2wHWqVEd"
   },
   "outputs": [],
   "source": [
    "node_pairs = pd.read_csv('data/training_data_new/train_val_node_pairs.csv', header=None)\n",
    "labels = pd.read_csv('data/training_data_new/train_val_labels.csv', header=None)\n",
    "        \n",
    "train_node_pairs, val_node_pairs, train_labels, val_labels = train_test_split(node_pairs, \n",
    "                                                                              labels, \n",
    "                                                                              train_size=0.8, \n",
    "                                                                              test_size=0.2, \n",
    "                                                                              random_state=42)\n",
    "\n",
    "train_node_pairs = train_node_pairs.reset_index(drop=True)\n",
    "val_node_pairs = val_node_pairs.reset_index(drop=True)\n",
    "train_labels = train_labels.reset_index(drop=True)\n",
    "val_labels = val_labels.reset_index(drop=True)\n"
   ]
  },
  {
   "cell_type": "code",
   "execution_count": 11,
   "id": "01f827aa-6099-42b7-a82c-752c3556efa0",
   "metadata": {},
   "outputs": [],
   "source": [
    "test_node_pairs = pd.read_csv('data/training_data_new/train_test_node_pairs.csv', header=None)\n",
    "test_labels = pd.read_csv('data/training_data_new/train_test_labels.csv', header=None)\n"
   ]
  },
  {
   "cell_type": "code",
   "execution_count": 12,
   "id": "f8ca4e20-5f85-4268-b53f-58d4f22e48e1",
   "metadata": {},
   "outputs": [
    {
     "data": {
      "text/plain": [
       "279539"
      ]
     },
     "execution_count": 12,
     "metadata": {},
     "output_type": "execute_result"
    }
   ],
   "source": [
    "len(train_node_pairs)#+len(val_node_pairs)+len(test_node_pairs))"
   ]
  },
  {
   "cell_type": "code",
   "execution_count": 13,
   "id": "818834cb-c58b-4ac0-aabb-3107252f1569",
   "metadata": {
    "id": "818834cb-c58b-4ac0-aabb-3107252f1569",
    "tags": []
   },
   "outputs": [],
   "source": [
    "# Read the abstract of each paper\n",
    "abstracts = dict()\n",
    "with open('data/abstracts.txt', 'r') as f:\n",
    "    for line in f:\n",
    "        node, abstract = line.split('|--|')\n",
    "        abstracts[int(node)] = abstract\n"
   ]
  },
  {
   "cell_type": "code",
   "execution_count": 30,
   "id": "ODZlRrdtnpDB",
   "metadata": {
    "colab": {
     "base_uri": "https://localhost:8080/"
    },
    "id": "ODZlRrdtnpDB",
    "outputId": "dd792d02-8cc4-4fde-f3a9-8dfe54baab6f"
   },
   "outputs": [],
   "source": [
    "length_total = train_node_pairs.shape[0]\n"
   ]
  },
  {
   "cell_type": "markdown",
   "id": "fbf93131-70f6-4ec0-a989-fec87a398642",
   "metadata": {
    "id": "UcZRqHN1pNUX"
   },
   "source": [
    "## Finetuning embeddings for sentence transformers"
   ]
  },
  {
   "cell_type": "code",
   "execution_count": 52,
   "id": "qGn4kdsoaA-0",
   "metadata": {
    "colab": {
     "base_uri": "https://localhost:8080/"
    },
    "id": "qGn4kdsoaA-0",
    "outputId": "08341cde-96d5-4182-ca4f-f3924ea3a798",
    "tags": []
   },
   "outputs": [
    {
     "name": "stderr",
     "output_type": "stream",
     "text": [
      "100%|██████████| 279539/279539 [01:45<00:00, 2647.75it/s]\n"
     ]
    }
   ],
   "source": [
    "\n",
    "\n",
    "abstracts_all = []\n",
    "\n",
    "length_total = train_node_pairs.shape[0]\n",
    "\n",
    "for i in tqdm(range(length_total)):\n",
    "    #print(i)\n",
    "    abstract_1 = int(train_node_pairs.iloc[[i]][0].item())\n",
    "    abstract_2 = int(train_node_pairs.iloc[[i]][1].item())\n",
    "    \n",
    "    linked = train_labels.iloc[[i]][0].item()\n",
    "\n",
    "    if linked==1:\n",
    "        abstracts_all.append(InputExample(texts=[abstracts[abstract_1], abstracts[abstract_2]], label=1.0))\n",
    "    else:\n",
    "        abstracts_all.append(InputExample(texts=[abstracts[abstract_1], abstracts[abstract_2]], label=0.0))\n"
   ]
  },
  {
   "cell_type": "code",
   "execution_count": 53,
   "id": "YbXXUAR8aBAz",
   "metadata": {
    "colab": {
     "base_uri": "https://localhost:8080/",
     "height": 364
    },
    "collapsed": true,
    "id": "YbXXUAR8aBAz",
    "jupyter": {
     "outputs_hidden": true
    },
    "outputId": "91cab41a-a152-4464-f869-c1409e4070a5",
    "tags": []
   },
   "outputs": [
    {
     "name": "stdout",
     "output_type": "stream",
     "text": [
      "Part: 0\n",
      "sublength : 27953\n"
     ]
    },
    {
     "data": {
      "application/vnd.jupyter.widget-view+json": {
       "model_id": "47a9722e32a24db6b75d1985f1b14718",
       "version_major": 2,
       "version_minor": 0
      },
      "text/plain": [
       "Epoch:   0%|          | 0/1 [00:00<?, ?it/s]"
      ]
     },
     "metadata": {},
     "output_type": "display_data"
    },
    {
     "data": {
      "application/vnd.jupyter.widget-view+json": {
       "model_id": "9ed3bd5bb28f4faf8284e8e61cdc6e31",
       "version_major": 2,
       "version_minor": 0
      },
      "text/plain": [
       "Iteration:   0%|          | 0/5591 [00:00<?, ?it/s]"
      ]
     },
     "metadata": {},
     "output_type": "display_data"
    },
    {
     "name": "stdout",
     "output_type": "stream",
     "text": [
      "Part: 1\n",
      "sublength : 27954\n"
     ]
    },
    {
     "data": {
      "application/vnd.jupyter.widget-view+json": {
       "model_id": "ec43e82a6c0e4faaa497de0f19fd529d",
       "version_major": 2,
       "version_minor": 0
      },
      "text/plain": [
       "Epoch:   0%|          | 0/1 [00:00<?, ?it/s]"
      ]
     },
     "metadata": {},
     "output_type": "display_data"
    },
    {
     "data": {
      "application/vnd.jupyter.widget-view+json": {
       "model_id": "119da9f546ac41eda53e62a0657e5aee",
       "version_major": 2,
       "version_minor": 0
      },
      "text/plain": [
       "Iteration:   0%|          | 0/5591 [00:00<?, ?it/s]"
      ]
     },
     "metadata": {},
     "output_type": "display_data"
    },
    {
     "name": "stdout",
     "output_type": "stream",
     "text": [
      "Part: 2\n",
      "sublength : 27954\n"
     ]
    },
    {
     "data": {
      "application/vnd.jupyter.widget-view+json": {
       "model_id": "61561cd3c5744dfbac6da96ab0f8ed3a",
       "version_major": 2,
       "version_minor": 0
      },
      "text/plain": [
       "Epoch:   0%|          | 0/1 [00:00<?, ?it/s]"
      ]
     },
     "metadata": {},
     "output_type": "display_data"
    },
    {
     "data": {
      "application/vnd.jupyter.widget-view+json": {
       "model_id": "e90a3aa0789f491e829856665e32a397",
       "version_major": 2,
       "version_minor": 0
      },
      "text/plain": [
       "Iteration:   0%|          | 0/5591 [00:00<?, ?it/s]"
      ]
     },
     "metadata": {},
     "output_type": "display_data"
    },
    {
     "name": "stdout",
     "output_type": "stream",
     "text": [
      "Part: 3\n",
      "sublength : 27954\n"
     ]
    },
    {
     "data": {
      "application/vnd.jupyter.widget-view+json": {
       "model_id": "97347c8e895a4bcd8ca232dccaa48fa9",
       "version_major": 2,
       "version_minor": 0
      },
      "text/plain": [
       "Epoch:   0%|          | 0/1 [00:00<?, ?it/s]"
      ]
     },
     "metadata": {},
     "output_type": "display_data"
    },
    {
     "data": {
      "application/vnd.jupyter.widget-view+json": {
       "model_id": "0ebe86901dd84af0a3d79727820bcd8f",
       "version_major": 2,
       "version_minor": 0
      },
      "text/plain": [
       "Iteration:   0%|          | 0/5591 [00:00<?, ?it/s]"
      ]
     },
     "metadata": {},
     "output_type": "display_data"
    },
    {
     "name": "stdout",
     "output_type": "stream",
     "text": [
      "Part: 4\n",
      "sublength : 27954\n"
     ]
    },
    {
     "data": {
      "application/vnd.jupyter.widget-view+json": {
       "model_id": "441bb963c79443029d7407c6ace633ee",
       "version_major": 2,
       "version_minor": 0
      },
      "text/plain": [
       "Epoch:   0%|          | 0/1 [00:00<?, ?it/s]"
      ]
     },
     "metadata": {},
     "output_type": "display_data"
    },
    {
     "data": {
      "application/vnd.jupyter.widget-view+json": {
       "model_id": "2906c9e403974cb9be9bc936a0141daf",
       "version_major": 2,
       "version_minor": 0
      },
      "text/plain": [
       "Iteration:   0%|          | 0/5591 [00:00<?, ?it/s]"
      ]
     },
     "metadata": {},
     "output_type": "display_data"
    },
    {
     "name": "stdout",
     "output_type": "stream",
     "text": [
      "Part: 5\n",
      "sublength : 27954\n"
     ]
    },
    {
     "data": {
      "application/vnd.jupyter.widget-view+json": {
       "model_id": "114484460acd44c38c350a3fc1229d6b",
       "version_major": 2,
       "version_minor": 0
      },
      "text/plain": [
       "Epoch:   0%|          | 0/1 [00:00<?, ?it/s]"
      ]
     },
     "metadata": {},
     "output_type": "display_data"
    },
    {
     "data": {
      "application/vnd.jupyter.widget-view+json": {
       "model_id": "1756f66130564e929e74bd11287a3aad",
       "version_major": 2,
       "version_minor": 0
      },
      "text/plain": [
       "Iteration:   0%|          | 0/5591 [00:00<?, ?it/s]"
      ]
     },
     "metadata": {},
     "output_type": "display_data"
    },
    {
     "name": "stdout",
     "output_type": "stream",
     "text": [
      "Part: 6\n",
      "sublength : 27954\n"
     ]
    },
    {
     "data": {
      "application/vnd.jupyter.widget-view+json": {
       "model_id": "fa7a373f98c9425497b288daf2ff8bb0",
       "version_major": 2,
       "version_minor": 0
      },
      "text/plain": [
       "Epoch:   0%|          | 0/1 [00:00<?, ?it/s]"
      ]
     },
     "metadata": {},
     "output_type": "display_data"
    },
    {
     "data": {
      "application/vnd.jupyter.widget-view+json": {
       "model_id": "9b1084c81f6840b1a5894195aae6515b",
       "version_major": 2,
       "version_minor": 0
      },
      "text/plain": [
       "Iteration:   0%|          | 0/5591 [00:00<?, ?it/s]"
      ]
     },
     "metadata": {},
     "output_type": "display_data"
    },
    {
     "name": "stdout",
     "output_type": "stream",
     "text": [
      "Part: 7\n",
      "sublength : 27954\n"
     ]
    },
    {
     "data": {
      "application/vnd.jupyter.widget-view+json": {
       "model_id": "c77d218e48bc4a05b9953b95730210c6",
       "version_major": 2,
       "version_minor": 0
      },
      "text/plain": [
       "Epoch:   0%|          | 0/1 [00:00<?, ?it/s]"
      ]
     },
     "metadata": {},
     "output_type": "display_data"
    },
    {
     "data": {
      "application/vnd.jupyter.widget-view+json": {
       "model_id": "c522f4cf4fc146719c96287230326ac4",
       "version_major": 2,
       "version_minor": 0
      },
      "text/plain": [
       "Iteration:   0%|          | 0/5591 [00:00<?, ?it/s]"
      ]
     },
     "metadata": {},
     "output_type": "display_data"
    },
    {
     "name": "stdout",
     "output_type": "stream",
     "text": [
      "Part: 8\n",
      "sublength : 27954\n"
     ]
    },
    {
     "data": {
      "application/vnd.jupyter.widget-view+json": {
       "model_id": "4eed7e9a27d244c89ca442028e50beef",
       "version_major": 2,
       "version_minor": 0
      },
      "text/plain": [
       "Epoch:   0%|          | 0/1 [00:00<?, ?it/s]"
      ]
     },
     "metadata": {},
     "output_type": "display_data"
    },
    {
     "data": {
      "application/vnd.jupyter.widget-view+json": {
       "model_id": "5a274ff752d1458fbb91deda3f6e97fb",
       "version_major": 2,
       "version_minor": 0
      },
      "text/plain": [
       "Iteration:   0%|          | 0/5591 [00:00<?, ?it/s]"
      ]
     },
     "metadata": {},
     "output_type": "display_data"
    },
    {
     "name": "stdout",
     "output_type": "stream",
     "text": [
      "Part: 9\n",
      "sublength : 27954\n"
     ]
    },
    {
     "data": {
      "application/vnd.jupyter.widget-view+json": {
       "model_id": "df00b690ec96442191a67cda5a08bbe7",
       "version_major": 2,
       "version_minor": 0
      },
      "text/plain": [
       "Epoch:   0%|          | 0/1 [00:00<?, ?it/s]"
      ]
     },
     "metadata": {},
     "output_type": "display_data"
    },
    {
     "data": {
      "application/vnd.jupyter.widget-view+json": {
       "model_id": "032f9afe2e414427939bb3dc8808a025",
       "version_major": 2,
       "version_minor": 0
      },
      "text/plain": [
       "Iteration:   0%|          | 0/5591 [00:00<?, ?it/s]"
      ]
     },
     "metadata": {},
     "output_type": "display_data"
    }
   ],
   "source": [
    "torch.cuda.empty_cache()\n",
    "\n",
    "\n",
    "#Define your train dataset, the dataloader and the train loss\n",
    "train_loss = losses.CosineSimilarityLoss(model)\n",
    "\n",
    "length_total_training = len(abstracts_all)\n",
    "\n",
    "for i in range(10):\n",
    "    print(\"Part: \" + str(i))\n",
    "    #Tune the model\n",
    "    sub = abstracts_all[i*length_total_training//10:(i+1)*length_total_training//10]\n",
    "    print(\"sublength : \" + str(len(sub)))\n",
    "    \n",
    "    train_dataloader = DataLoader(sub, shuffle=True, batch_size=5)\n",
    "    model.fit(train_objectives=[(train_dataloader, train_loss)], epochs=1, warmup_steps=100)\n",
    "    torch.save(model.state_dict(), \"model_pieces/specter_finetuned_full_\"+str(i))\n"
   ]
  },
  {
   "cell_type": "code",
   "execution_count": 55,
   "id": "n0eAV36wmH2t",
   "metadata": {
    "id": "n0eAV36wmH2t"
   },
   "outputs": [],
   "source": [
    "torch.save(model.state_dict(), \"models/specter_finetuned_full\")\n"
   ]
  },
  {
   "cell_type": "code",
   "execution_count": 14,
   "id": "jv_FRuwFWiLX",
   "metadata": {
    "id": "jv_FRuwFWiLX"
   },
   "outputs": [
    {
     "data": {
      "text/plain": [
       "SentenceTransformer(\n",
       "  (0): Transformer({'max_seq_length': 512, 'do_lower_case': False}) with Transformer model: BertModel \n",
       "  (1): Pooling({'word_embedding_dimension': 768, 'pooling_mode_cls_token': True, 'pooling_mode_mean_tokens': False, 'pooling_mode_max_tokens': False, 'pooling_mode_mean_sqrt_len_tokens': False})\n",
       ")"
      ]
     },
     "execution_count": 14,
     "metadata": {},
     "output_type": "execute_result"
    }
   ],
   "source": [
    "model = SentenceTransformer('sentence-transformers/allenai-specter')\n",
    "model.load_state_dict(torch.load(\"models/specter_finetuned_full\"))\n",
    "model.eval()\n"
   ]
  },
  {
   "cell_type": "markdown",
   "id": "ba1960c1-e837-486c-8090-3634454dff94",
   "metadata": {
    "id": "ba1960c1-e837-486c-8090-3634454dff94"
   },
   "source": [
    "# Reading data"
   ]
  },
  {
   "cell_type": "code",
   "execution_count": 24,
   "id": "62658e38-4eff-494e-bee7-d4feee13d646",
   "metadata": {
    "colab": {
     "base_uri": "https://localhost:8080/"
    },
    "id": "62658e38-4eff-494e-bee7-d4feee13d646",
    "outputId": "d338cd65-a80c-4861-9e74-0ef2b75683af"
   },
   "outputs": [
    {
     "name": "stderr",
     "output_type": "stream",
     "text": [
      "Exception ignored in: <function ZipFile.__del__ at 0x7f408200fd30>\n",
      "Traceback (most recent call last):\n",
      "  File \"/opt/conda/envs/altegrad2/lib/python3.8/zipfile.py\", line 1821, in __del__\n",
      "    self.close()\n",
      "  File \"/opt/conda/envs/altegrad2/lib/python3.8/zipfile.py\", line 1838, in close\n",
      "    self.fp.seek(self.start_dir)\n",
      "ValueError: seek of closed file\n"
     ]
    },
    {
     "name": "stdout",
     "output_type": "stream",
     "text": [
      "Number of nodes: 138499\n",
      "Number of edges: 1091955\n"
     ]
    }
   ],
   "source": [
    "# Create a graph\n",
    "G = nx.read_edgelist('data/edgelist.txt', delimiter=',', create_using=nx.Graph(), nodetype=int)\n",
    "nodes = list(G.nodes())\n",
    "n = G.number_of_nodes()\n",
    "m = G.number_of_edges()\n",
    "print('Number of nodes:', n)\n",
    "print('Number of edges:', m)\n"
   ]
  },
  {
   "cell_type": "code",
   "execution_count": 25,
   "id": "0f8e02d9-6127-4ba7-8e60-1ea6a59b582f",
   "metadata": {
    "id": "0f8e02d9-6127-4ba7-8e60-1ea6a59b582f"
   },
   "outputs": [],
   "source": [
    "# Read the abstract of each paper\n",
    "abstracts = dict()\n",
    "with open('data/abstracts.txt', 'r') as f:\n",
    "    for line in f:\n",
    "        node, abstract = line.split('|--|')\n",
    "        abstracts[int(node)] = abstract\n"
   ]
  },
  {
   "cell_type": "markdown",
   "id": "6e571d38-5930-4ab1-941c-2ac4b570952e",
   "metadata": {
    "id": "6e571d38-5930-4ab1-941c-2ac4b570952e"
   },
   "source": [
    "# Computing embeddings"
   ]
  },
  {
   "cell_type": "code",
   "execution_count": null,
   "id": "dHeMqhyxuACp",
   "metadata": {
    "collapsed": true,
    "id": "dHeMqhyxuACp",
    "jupyter": {
     "outputs_hidden": true
    },
    "tags": []
   },
   "outputs": [],
   "source": [
    "\n",
    "model_name = \"scibert_sentence_transformers\"\n",
    "\n",
    "txt2feat = dict()\n",
    "nodes = list(abstracts.keys())\n",
    "\n",
    "article_textual_embeddings = []\n",
    "\n",
    "\n",
    "if model_name == \"bert\":\n",
    "    \n",
    "    tokenizer = AutoTokenizer.from_pretrained('bert-base-uncased')\n",
    "    model = AutoModel.from_pretrained('bert-base-uncased').to(\"cuda\")\n",
    "\n",
    "    model.cuda()\n",
    "    model.eval()\n",
    "    \n",
    "    for i in tqdm(nodes):\n",
    "        index = int(i)\n",
    "\n",
    "        tokens = tokenizer.encode(abstracts[index], return_tensors='pt', truncation=True, max_length=250).to(\"cuda\")\n",
    "        node_paper_embedding_1 = model(tokens).pooler_output.detach().cpu().numpy()\n",
    "\n",
    "        txt2feat[index] = node_paper_embedding_1\n",
    "\n",
    "        \n",
    "elif model_name == \"scibert\":\n",
    "    \n",
    "    tokenizer = AutoTokenizer.from_pretrained('allenai/scibert_scivocab_uncased')\n",
    "    model = AutoModel.from_pretrained('allenai/scibert_scivocab_uncased').to(\"cuda\")\n",
    "    \n",
    "    model.cuda()\n",
    "    model.eval()\n",
    "    \n",
    "    for i in tqdm(nodes):\n",
    "        index = int(i)\n",
    "\n",
    "        tokens = tokenizer.encode(abstracts[index], return_tensors='pt', truncation=True, max_length=250).to(\"cuda\")\n",
    "        node_paper_embedding_1 = model(tokens).pooler_output.detach().cpu().numpy()\n",
    "\n",
    "        txt2feat[index] = node_paper_embedding_1\n",
    "\n",
    "\n",
    "elif model_name == \"scibert_sentence_transformers\":\n",
    "    \n",
    "    model = SentenceTransformer('gsarti/scibert-nli')\n",
    "\n",
    "    model.cuda()\n",
    "    model.eval()\n",
    "\n",
    "    for i in tqdm(nodes):\n",
    "        index = int(i)\n",
    "\n",
    "        article_textual_embedding = model.encode(abstracts[index])\n",
    "\n",
    "        txt2feat[index] = article_textual_embedding\n",
    "\n",
    "\n",
    "elif model_name == \"specter\":\n",
    "\n",
    "    model = SentenceTransformer('sentence-transformers/allenai-specter')\n",
    "\n",
    "    model.cuda()\n",
    "    model.eval()\n",
    "\n",
    "    for i in tqdm(nodes):\n",
    "        index = int(i)\n",
    "\n",
    "        article_textual_embedding = model.encode(abstracts[index])\n",
    "\n",
    "        txt2feat[index] = article_textual_embedding\n",
    "\n",
    "\n",
    "for i in tqdm(nodes):\n",
    "    index = int(i)\n",
    "    article_textual_embeddings.append(txt2feat[index])\n"
   ]
  },
  {
   "cell_type": "markdown",
   "id": "566be937-0b52-48cf-a699-d3ce5995d4b9",
   "metadata": {},
   "source": [
    "Saving options"
   ]
  },
  {
   "cell_type": "code",
   "execution_count": 86,
   "id": "QsOPUTQru495",
   "metadata": {
    "id": "QsOPUTQru495"
   },
   "outputs": [],
   "source": [
    "torch.save(article_textual_embeddings, f'data/article_textual_embeddings.pt')"
   ]
  },
  {
   "cell_type": "code",
   "execution_count": null,
   "id": "qB8ONXupdiRd",
   "metadata": {
    "id": "qB8ONXupdiRd"
   },
   "outputs": [],
   "source": [
    "article_textual_embeddings = torch.load(f'/data/article_textual_embeddings.pt')"
   ]
  },
  {
   "cell_type": "code",
   "execution_count": 7,
   "id": "3D4ZrBcpd1oL",
   "metadata": {
    "id": "3D4ZrBcpd1oL"
   },
   "outputs": [],
   "source": [
    "npz_to_save = np.array(article_textual_embeddings3)"
   ]
  },
  {
   "cell_type": "code",
   "execution_count": 70,
   "id": "8t5Gqocod4vM",
   "metadata": {
    "colab": {
     "base_uri": "https://localhost:8080/"
    },
    "id": "8t5Gqocod4vM",
    "outputId": "3665bc3c-3fe8-4bc5-fc64-74f918dcf146"
   },
   "outputs": [],
   "source": [
    "with open(f'data/embeddings_19_02_best_1.npy', 'wb') as f:\n",
    "    np.save(f, npz_to_save)"
   ]
  },
  {
   "cell_type": "code",
   "execution_count": 3,
   "id": "17c861b8-fb29-4ef7-99d4-69a103dcd22f",
   "metadata": {},
   "outputs": [],
   "source": [
    "with open(f'data/embeddings_19_02.npy', 'rb') as f:\n",
    "    article_textual_embeddings3 = np.load(f)"
   ]
  },
  {
   "cell_type": "markdown",
   "id": "c1444626-29df-4ee5-8bd6-e87dc61cbbd2",
   "metadata": {},
   "source": [
    "Splitting for easier download"
   ]
  },
  {
   "cell_type": "code",
   "execution_count": 5,
   "id": "8ccf9e89-9d85-4ab2-ad2d-d01eb105fc5e",
   "metadata": {},
   "outputs": [],
   "source": [
    "article_textual_embeddings3_part1 = article_textual_embeddings3[:138499//2]\n",
    "npz_to_save_1 = np.array(article_textual_embeddings3_part1)\n",
    "\n",
    "article_textual_embeddings3_part2 = article_textual_embeddings3[138499//2:]\n",
    "npz_to_save_2 = np.array(article_textual_embeddings3_part2)"
   ]
  },
  {
   "cell_type": "code",
   "execution_count": 6,
   "id": "44d84c37-9eec-48ab-a8a8-8de278e71bc5",
   "metadata": {},
   "outputs": [],
   "source": [
    "with open(f'data/embeddings_19_02_best_part_1.npy', 'wb') as f:\n",
    "    np.savez_compressed(f, npz_to_save_1)\n",
    "\n",
    "with open(f'data/embeddings_19_02_best_part_2.npy', 'wb') as f:\n",
    "    np.savez_compressed(f, npz_to_save_2)"
   ]
  },
  {
   "cell_type": "markdown",
   "id": "90758335-bc9a-474c-997f-83250298b523",
   "metadata": {},
   "source": [
    "Checking that the split worked"
   ]
  },
  {
   "cell_type": "code",
   "execution_count": 9,
   "id": "6b2becfa-b197-45a4-b88d-4ee2cdc5ff0c",
   "metadata": {},
   "outputs": [],
   "source": [
    "with open(f'data/embeddings_19_02_best_1.npy', 'wb') as f:\n",
    "    np.savez_compressed(f, npz_to_save)\n",
    "    #np.save(f, npz_to_save)"
   ]
  },
  {
   "cell_type": "code",
   "execution_count": 7,
   "id": "38635539-ec58-4725-bc4a-28f2a649db6e",
   "metadata": {},
   "outputs": [],
   "source": [
    "with open(f'data/embeddings_19_02_best_part_1.npy', 'rb') as f:\n",
    "    article_textual_embeddings3_part1 = np.load(f)\n",
    "    part1 = article_textual_embeddings3_part1['arr_0']\n",
    "\n",
    "with open(f'data/embeddings_19_02_best_part_2.npy', 'rb') as f:\n",
    "    article_textual_embeddings3_part2 = np.load(f)\n",
    "    part2 = article_textual_embeddings3_part2['arr_0']\n",
    "\n",
    "full_array = np.concatenate((part1,part2), axis=0)"
   ]
  },
  {
   "cell_type": "markdown",
   "id": "b2e202b0-ffc5-4c52-98f2-af768de48429",
   "metadata": {},
   "source": [
    "## Evaluating performance"
   ]
  },
  {
   "cell_type": "markdown",
   "id": "d4e00007-42cf-4443-be9a-9c6301ba01c6",
   "metadata": {},
   "source": [
    "Computing positive and negative samples"
   ]
  },
  {
   "cell_type": "code",
   "execution_count": null,
   "id": "c6307341-c13c-4a84-acde-b8174180ef41",
   "metadata": {
    "collapsed": true,
    "jupyter": {
     "outputs_hidden": true
    },
    "tags": []
   },
   "outputs": [],
   "source": [
    "pos_samples = []\n",
    "neg_samples = []\n",
    "length_total = val_node_pairs.shape[0]\n",
    "\n",
    "for i in tqdm(range(length_total)):\n",
    "\n",
    "    linked = val_labels.iloc[[i]][0].item()\n",
    "\n",
    "    if linked==1:\n",
    "        pos_samples.append([int(val_node_pairs.iloc[[i]][0].item()),int(val_node_pairs.iloc[[i]][1].item())])\n",
    "    else:\n",
    "        neg_samples.append([int(val_node_pairs.iloc[[i]][0].item()),int(val_node_pairs.iloc[[i]][1].item())])\n"
   ]
  },
  {
   "cell_type": "markdown",
   "id": "927d7146-ec3c-4dbe-9d19-2c7d26a1d79f",
   "metadata": {
    "id": "sHRQn4VBh2cD",
    "tags": []
   },
   "source": [
    "Performance on negatives"
   ]
  },
  {
   "cell_type": "code",
   "execution_count": 45,
   "id": "bFYg-UtUhTnK",
   "metadata": {
    "colab": {
     "base_uri": "https://localhost:8080/"
    },
    "id": "bFYg-UtUhTnK",
    "outputId": "5d354340-1987-4421-8df1-b8ccd7f61842",
    "tags": []
   },
   "outputs": [
    {
     "name": "stderr",
     "output_type": "stream",
     "text": [
      "100%|██████████| 500/500 [00:17<00:00, 27.88it/s]"
     ]
    },
    {
     "name": "stdout",
     "output_type": "stream",
     "text": [
      "[0.5569189]\n"
     ]
    },
    {
     "name": "stderr",
     "output_type": "stream",
     "text": [
      "\n"
     ]
    }
   ],
   "source": [
    "from sklearn.metrics.pairwise import cosine_similarity\n",
    "\n",
    "\n",
    "sims = []\n",
    "for neg_sample in tqdm(neg_samples[:500]):\n",
    "    \n",
    "    ###if embeddings are precomputed run this\n",
    "    #node_paper_embedding_1 = np.expand_dims(full_array[neg_sample[0]], axis=0)\n",
    "    #node_paper_embedding_2 = np.expand_dims(full_array[neg_sample[1]], axis=0)\n",
    "\n",
    "    ###otherwise we compute them on the fly\n",
    "    if model_name == \"bert\" or model_name == \"scibert\":\n",
    "        tokens = tokenizer.encode(abstracts[neg_sample[0]], return_tensors='pt', truncation=True, max_length=250).to(\"cuda\")\n",
    "        node_paper_embedding_1 = model(tokens).pooler_output.detach().cpu().numpy()\n",
    "\n",
    "        tokens = tokenizer.encode(abstracts[neg_sample[1]], return_tensors='pt', truncation=True, max_length=250).to(\"cuda\")\n",
    "        node_paper_embedding_2 = model(tokens).pooler_output.detach().cpu().numpy()\n",
    "\n",
    "    else:\n",
    "        node_paper_embedding_1 = np.expand_dims(model.encode(abstracts[neg_sample[0]]), axis=0)\n",
    "        node_paper_embedding_2 = np.expand_dims(model.encode(abstracts[neg_sample[1]]), axis=0)\n",
    "\n",
    "    \n",
    "    paper_sim = cosine_similarity(node_paper_embedding_1, node_paper_embedding_2)[0]\n",
    "    #print(paper_sim)\n",
    "    sims.append(paper_sim)\n",
    "\n",
    "\n",
    "print(sum(sims)/len(sims))\n",
    "    "
   ]
  },
  {
   "cell_type": "markdown",
   "id": "8053d920-19c8-4b14-8031-04b4ed53dc69",
   "metadata": {},
   "source": [
    "Performance on positives"
   ]
  },
  {
   "cell_type": "code",
   "execution_count": 47,
   "id": "f37e777d-5c26-48cf-a4c3-c098be0251f0",
   "metadata": {
    "colab": {
     "base_uri": "https://localhost:8080/"
    },
    "id": "f37e777d-5c26-48cf-a4c3-c098be0251f0",
    "outputId": "5eaba532-aac2-4118-b15f-6f302a522318",
    "tags": []
   },
   "outputs": [
    {
     "name": "stderr",
     "output_type": "stream",
     "text": [
      "100%|██████████| 500/500 [00:19<00:00, 25.75it/s]"
     ]
    },
    {
     "name": "stdout",
     "output_type": "stream",
     "text": [
      "[0.70524037]\n"
     ]
    },
    {
     "name": "stderr",
     "output_type": "stream",
     "text": [
      "\n"
     ]
    }
   ],
   "source": [
    "from sklearn.metrics.pairwise import cosine_similarity\n",
    "\n",
    "\n",
    "sims = []\n",
    "for pos_sample in tqdm(pos_samples[:500]):\n",
    "    \n",
    "    ###if embeddings are precomputed run this\n",
    "    #node_paper_embedding_1 = np.expand_dims(full_array[pos_sample[0]], axis=0)\n",
    "    #node_paper_embedding_2 = np.expand_dims(full_array[pos_sample[1]], axis=0)\n",
    "\n",
    "    if model_name == \"bert\" or model_name == \"scibert\":\n",
    "        tokens = tokenizer.encode(abstracts[pos_sample[0]], return_tensors='pt', truncation=True, max_length=250).to(\"cuda\")\n",
    "        node_paper_embedding_1 = model(tokens).pooler_output.detach().cpu().numpy()\n",
    "\n",
    "        tokens = tokenizer.encode(abstracts[pos_sample[1]], return_tensors='pt', truncation=True, max_length=250).to(\"cuda\")\n",
    "        node_paper_embedding_2 = model(tokens).pooler_output.detach().cpu().numpy()\n",
    "\n",
    "    else:\n",
    "        node_paper_embedding_1 = np.expand_dims(model.encode(abstracts[pos_sample[0]]), axis=0)\n",
    "        node_paper_embedding_2 = np.expand_dims(model.encode(abstracts[pos_sample[1]]), axis=0)\n",
    "\n",
    "    \n",
    "    sims.append(cosine_similarity(node_paper_embedding_1, node_paper_embedding_2)[0])\n",
    "\n",
    "print(sum(sims)/len(sims))\n",
    "    "
   ]
  }
 ],
 "metadata": {
  "accelerator": "GPU",
  "colab": {
   "collapsed_sections": [],
   "name": "specter2.ipynb",
   "provenance": []
  },
  "environment": {
   "kernel": "conda-env-altegrad2-py",
   "name": "common-cu110.m89",
   "type": "gcloud",
   "uri": "gcr.io/deeplearning-platform-release/base-cu110:m89"
  },
  "kernelspec": {
   "display_name": "Python [conda env:altegrad2]",
   "language": "python",
   "name": "conda-env-altegrad2-py"
  },
  "language_info": {
   "codemirror_mode": {
    "name": "ipython",
    "version": 3
   },
   "file_extension": ".py",
   "mimetype": "text/x-python",
   "name": "python",
   "nbconvert_exporter": "python",
   "pygments_lexer": "ipython3",
   "version": "3.8.12"
  },
  "widgets": {
   "application/vnd.jupyter.widget-state+json": {
    "02511e039ad349c7b3c8abe2b3a48561": {
     "model_module": "@jupyter-widgets/controls",
     "model_module_version": "1.5.0",
     "model_name": "ProgressStyleModel",
     "state": {
      "_model_module": "@jupyter-widgets/controls",
      "_model_module_version": "1.5.0",
      "_model_name": "ProgressStyleModel",
      "_view_count": null,
      "_view_module": "@jupyter-widgets/base",
      "_view_module_version": "1.2.0",
      "_view_name": "StyleView",
      "bar_color": null,
      "description_width": ""
     }
    },
    "02fa65eeeac8475392255109a30ffd14": {
     "model_module": "@jupyter-widgets/base",
     "model_module_version": "1.2.0",
     "model_name": "LayoutModel",
     "state": {
      "_model_module": "@jupyter-widgets/base",
      "_model_module_version": "1.2.0",
      "_model_name": "LayoutModel",
      "_view_count": null,
      "_view_module": "@jupyter-widgets/base",
      "_view_module_version": "1.2.0",
      "_view_name": "LayoutView",
      "align_content": null,
      "align_items": null,
      "align_self": null,
      "border": null,
      "bottom": null,
      "display": null,
      "flex": null,
      "flex_flow": null,
      "grid_area": null,
      "grid_auto_columns": null,
      "grid_auto_flow": null,
      "grid_auto_rows": null,
      "grid_column": null,
      "grid_gap": null,
      "grid_row": null,
      "grid_template_areas": null,
      "grid_template_columns": null,
      "grid_template_rows": null,
      "height": null,
      "justify_content": null,
      "justify_items": null,
      "left": null,
      "margin": null,
      "max_height": null,
      "max_width": null,
      "min_height": null,
      "min_width": null,
      "object_fit": null,
      "object_position": null,
      "order": null,
      "overflow": null,
      "overflow_x": null,
      "overflow_y": null,
      "padding": null,
      "right": null,
      "top": null,
      "visibility": null,
      "width": null
     }
    },
    "0d2ad3621cb543e78fae90bfa660c67e": {
     "model_module": "@jupyter-widgets/controls",
     "model_module_version": "1.5.0",
     "model_name": "ProgressStyleModel",
     "state": {
      "_model_module": "@jupyter-widgets/controls",
      "_model_module_version": "1.5.0",
      "_model_name": "ProgressStyleModel",
      "_view_count": null,
      "_view_module": "@jupyter-widgets/base",
      "_view_module_version": "1.2.0",
      "_view_name": "StyleView",
      "bar_color": null,
      "description_width": ""
     }
    },
    "0e01449d67424b6f9ef291fba8d5df91": {
     "model_module": "@jupyter-widgets/base",
     "model_module_version": "1.2.0",
     "model_name": "LayoutModel",
     "state": {
      "_model_module": "@jupyter-widgets/base",
      "_model_module_version": "1.2.0",
      "_model_name": "LayoutModel",
      "_view_count": null,
      "_view_module": "@jupyter-widgets/base",
      "_view_module_version": "1.2.0",
      "_view_name": "LayoutView",
      "align_content": null,
      "align_items": null,
      "align_self": null,
      "border": null,
      "bottom": null,
      "display": null,
      "flex": null,
      "flex_flow": null,
      "grid_area": null,
      "grid_auto_columns": null,
      "grid_auto_flow": null,
      "grid_auto_rows": null,
      "grid_column": null,
      "grid_gap": null,
      "grid_row": null,
      "grid_template_areas": null,
      "grid_template_columns": null,
      "grid_template_rows": null,
      "height": null,
      "justify_content": null,
      "justify_items": null,
      "left": null,
      "margin": null,
      "max_height": null,
      "max_width": null,
      "min_height": null,
      "min_width": null,
      "object_fit": null,
      "object_position": null,
      "order": null,
      "overflow": null,
      "overflow_x": null,
      "overflow_y": null,
      "padding": null,
      "right": null,
      "top": null,
      "visibility": null,
      "width": null
     }
    },
    "1a9e318756854bffa4a9cbda55d24fee": {
     "model_module": "@jupyter-widgets/controls",
     "model_module_version": "1.5.0",
     "model_name": "DescriptionStyleModel",
     "state": {
      "_model_module": "@jupyter-widgets/controls",
      "_model_module_version": "1.5.0",
      "_model_name": "DescriptionStyleModel",
      "_view_count": null,
      "_view_module": "@jupyter-widgets/base",
      "_view_module_version": "1.2.0",
      "_view_name": "StyleView",
      "description_width": ""
     }
    },
    "1b4df5d653ab4ced84c0c7a31f56a4dc": {
     "model_module": "@jupyter-widgets/base",
     "model_module_version": "1.2.0",
     "model_name": "LayoutModel",
     "state": {
      "_model_module": "@jupyter-widgets/base",
      "_model_module_version": "1.2.0",
      "_model_name": "LayoutModel",
      "_view_count": null,
      "_view_module": "@jupyter-widgets/base",
      "_view_module_version": "1.2.0",
      "_view_name": "LayoutView",
      "align_content": null,
      "align_items": null,
      "align_self": null,
      "border": null,
      "bottom": null,
      "display": null,
      "flex": null,
      "flex_flow": null,
      "grid_area": null,
      "grid_auto_columns": null,
      "grid_auto_flow": null,
      "grid_auto_rows": null,
      "grid_column": null,
      "grid_gap": null,
      "grid_row": null,
      "grid_template_areas": null,
      "grid_template_columns": null,
      "grid_template_rows": null,
      "height": null,
      "justify_content": null,
      "justify_items": null,
      "left": null,
      "margin": null,
      "max_height": null,
      "max_width": null,
      "min_height": null,
      "min_width": null,
      "object_fit": null,
      "object_position": null,
      "order": null,
      "overflow": null,
      "overflow_x": null,
      "overflow_y": null,
      "padding": null,
      "right": null,
      "top": null,
      "visibility": null,
      "width": null
     }
    },
    "1d050fa0b56b4e88959c97bf660e81b3": {
     "model_module": "@jupyter-widgets/controls",
     "model_module_version": "1.5.0",
     "model_name": "HTMLModel",
     "state": {
      "_dom_classes": [],
      "_model_module": "@jupyter-widgets/controls",
      "_model_module_version": "1.5.0",
      "_model_name": "HTMLModel",
      "_view_count": null,
      "_view_module": "@jupyter-widgets/controls",
      "_view_module_version": "1.5.0",
      "_view_name": "HTMLView",
      "description": "",
      "description_tooltip": null,
      "layout": "IPY_MODEL_47946fd0044a42f3ba3fa23076c31ee0",
      "placeholder": "​",
      "style": "IPY_MODEL_48dd18c9d4904e88b0d2530729a7d81a",
      "value": "Downloading: 100%"
     }
    },
    "2434a03f141a4318afed60f2996551b3": {
     "model_module": "@jupyter-widgets/controls",
     "model_module_version": "1.5.0",
     "model_name": "HBoxModel",
     "state": {
      "_dom_classes": [],
      "_model_module": "@jupyter-widgets/controls",
      "_model_module_version": "1.5.0",
      "_model_name": "HBoxModel",
      "_view_count": null,
      "_view_module": "@jupyter-widgets/controls",
      "_view_module_version": "1.5.0",
      "_view_name": "HBoxView",
      "box_style": "",
      "children": [
       "IPY_MODEL_1d050fa0b56b4e88959c97bf660e81b3",
       "IPY_MODEL_2daa58b6cf3447c2b3fcee29b735ad78",
       "IPY_MODEL_64ea848350bb4033b45bd60217951d00"
      ],
      "layout": "IPY_MODEL_7d03e9a8f5a345718016b58f83205be4"
     }
    },
    "26701fcf6e99409bbf57bbb939168d44": {
     "model_module": "@jupyter-widgets/controls",
     "model_module_version": "1.5.0",
     "model_name": "DescriptionStyleModel",
     "state": {
      "_model_module": "@jupyter-widgets/controls",
      "_model_module_version": "1.5.0",
      "_model_name": "DescriptionStyleModel",
      "_view_count": null,
      "_view_module": "@jupyter-widgets/base",
      "_view_module_version": "1.2.0",
      "_view_name": "StyleView",
      "description_width": ""
     }
    },
    "294c92bf7bb94357bda755e2c4576cf8": {
     "model_module": "@jupyter-widgets/base",
     "model_module_version": "1.2.0",
     "model_name": "LayoutModel",
     "state": {
      "_model_module": "@jupyter-widgets/base",
      "_model_module_version": "1.2.0",
      "_model_name": "LayoutModel",
      "_view_count": null,
      "_view_module": "@jupyter-widgets/base",
      "_view_module_version": "1.2.0",
      "_view_name": "LayoutView",
      "align_content": null,
      "align_items": null,
      "align_self": null,
      "border": null,
      "bottom": null,
      "display": null,
      "flex": null,
      "flex_flow": null,
      "grid_area": null,
      "grid_auto_columns": null,
      "grid_auto_flow": null,
      "grid_auto_rows": null,
      "grid_column": null,
      "grid_gap": null,
      "grid_row": null,
      "grid_template_areas": null,
      "grid_template_columns": null,
      "grid_template_rows": null,
      "height": null,
      "justify_content": null,
      "justify_items": null,
      "left": null,
      "margin": null,
      "max_height": null,
      "max_width": null,
      "min_height": null,
      "min_width": null,
      "object_fit": null,
      "object_position": null,
      "order": null,
      "overflow": null,
      "overflow_x": null,
      "overflow_y": null,
      "padding": null,
      "right": null,
      "top": null,
      "visibility": null,
      "width": null
     }
    },
    "2d4e687542c84ef1a36af006e987dec4": {
     "model_module": "@jupyter-widgets/controls",
     "model_module_version": "1.5.0",
     "model_name": "HTMLModel",
     "state": {
      "_dom_classes": [],
      "_model_module": "@jupyter-widgets/controls",
      "_model_module_version": "1.5.0",
      "_model_name": "HTMLModel",
      "_view_count": null,
      "_view_module": "@jupyter-widgets/controls",
      "_view_module_version": "1.5.0",
      "_view_name": "HTMLView",
      "description": "",
      "description_tooltip": null,
      "layout": "IPY_MODEL_660719afeed34475917d70b67b8c69ad",
      "placeholder": "​",
      "style": "IPY_MODEL_7564773e8ddc4dd999b451ea68a82008",
      "value": "Downloading: 100%"
     }
    },
    "2daa58b6cf3447c2b3fcee29b735ad78": {
     "model_module": "@jupyter-widgets/controls",
     "model_module_version": "1.5.0",
     "model_name": "FloatProgressModel",
     "state": {
      "_dom_classes": [],
      "_model_module": "@jupyter-widgets/controls",
      "_model_module_version": "1.5.0",
      "_model_name": "FloatProgressModel",
      "_view_count": null,
      "_view_module": "@jupyter-widgets/controls",
      "_view_module_version": "1.5.0",
      "_view_name": "ProgressView",
      "bar_style": "success",
      "description": "",
      "description_tooltip": null,
      "layout": "IPY_MODEL_a8a40a8f1a15473188a54d9b323f71bb",
      "max": 227845,
      "min": 0,
      "orientation": "horizontal",
      "style": "IPY_MODEL_505b78574e1440289fee6b2331d5c559",
      "value": 227845
     }
    },
    "3218820be7784c76a934e0a4c5aa7f24": {
     "model_module": "@jupyter-widgets/controls",
     "model_module_version": "1.5.0",
     "model_name": "ProgressStyleModel",
     "state": {
      "_model_module": "@jupyter-widgets/controls",
      "_model_module_version": "1.5.0",
      "_model_name": "ProgressStyleModel",
      "_view_count": null,
      "_view_module": "@jupyter-widgets/base",
      "_view_module_version": "1.2.0",
      "_view_name": "StyleView",
      "bar_color": null,
      "description_width": ""
     }
    },
    "3891a1d9602741e7829db0d1d72cebee": {
     "model_module": "@jupyter-widgets/controls",
     "model_module_version": "1.5.0",
     "model_name": "HTMLModel",
     "state": {
      "_dom_classes": [],
      "_model_module": "@jupyter-widgets/controls",
      "_model_module_version": "1.5.0",
      "_model_name": "HTMLModel",
      "_view_count": null,
      "_view_module": "@jupyter-widgets/controls",
      "_view_module_version": "1.5.0",
      "_view_name": "HTMLView",
      "description": "",
      "description_tooltip": null,
      "layout": "IPY_MODEL_45dee9bda9e44edca9bd346e739ad6d2",
      "placeholder": "​",
      "style": "IPY_MODEL_456acd9a0e0e4fc3b15a6d3eef5d153f",
      "value": " 1/1 [04:31&lt;00:00, 271.18s/it]"
     }
    },
    "40ec57f1a16a47ccb76ff559afdd87ae": {
     "model_module": "@jupyter-widgets/controls",
     "model_module_version": "1.5.0",
     "model_name": "HBoxModel",
     "state": {
      "_dom_classes": [],
      "_model_module": "@jupyter-widgets/controls",
      "_model_module_version": "1.5.0",
      "_model_name": "HBoxModel",
      "_view_count": null,
      "_view_module": "@jupyter-widgets/controls",
      "_view_module_version": "1.5.0",
      "_view_name": "HBoxView",
      "box_style": "",
      "children": [
       "IPY_MODEL_2d4e687542c84ef1a36af006e987dec4",
       "IPY_MODEL_a86d31f033074931b02530143a3de66d",
       "IPY_MODEL_895e57831a0f4ce2ab2cf1d9f1f8f387"
      ],
      "layout": "IPY_MODEL_af5c8f0ce24c4c4eb2149d0a526e1037"
     }
    },
    "456acd9a0e0e4fc3b15a6d3eef5d153f": {
     "model_module": "@jupyter-widgets/controls",
     "model_module_version": "1.5.0",
     "model_name": "DescriptionStyleModel",
     "state": {
      "_model_module": "@jupyter-widgets/controls",
      "_model_module_version": "1.5.0",
      "_model_name": "DescriptionStyleModel",
      "_view_count": null,
      "_view_module": "@jupyter-widgets/base",
      "_view_module_version": "1.2.0",
      "_view_name": "StyleView",
      "description_width": ""
     }
    },
    "45dee9bda9e44edca9bd346e739ad6d2": {
     "model_module": "@jupyter-widgets/base",
     "model_module_version": "1.2.0",
     "model_name": "LayoutModel",
     "state": {
      "_model_module": "@jupyter-widgets/base",
      "_model_module_version": "1.2.0",
      "_model_name": "LayoutModel",
      "_view_count": null,
      "_view_module": "@jupyter-widgets/base",
      "_view_module_version": "1.2.0",
      "_view_name": "LayoutView",
      "align_content": null,
      "align_items": null,
      "align_self": null,
      "border": null,
      "bottom": null,
      "display": null,
      "flex": null,
      "flex_flow": null,
      "grid_area": null,
      "grid_auto_columns": null,
      "grid_auto_flow": null,
      "grid_auto_rows": null,
      "grid_column": null,
      "grid_gap": null,
      "grid_row": null,
      "grid_template_areas": null,
      "grid_template_columns": null,
      "grid_template_rows": null,
      "height": null,
      "justify_content": null,
      "justify_items": null,
      "left": null,
      "margin": null,
      "max_height": null,
      "max_width": null,
      "min_height": null,
      "min_width": null,
      "object_fit": null,
      "object_position": null,
      "order": null,
      "overflow": null,
      "overflow_x": null,
      "overflow_y": null,
      "padding": null,
      "right": null,
      "top": null,
      "visibility": null,
      "width": null
     }
    },
    "46cd1651a7e64a7bb09e6760a1c21515": {
     "model_module": "@jupyter-widgets/controls",
     "model_module_version": "1.5.0",
     "model_name": "FloatProgressModel",
     "state": {
      "_dom_classes": [],
      "_model_module": "@jupyter-widgets/controls",
      "_model_module_version": "1.5.0",
      "_model_name": "FloatProgressModel",
      "_view_count": null,
      "_view_module": "@jupyter-widgets/controls",
      "_view_module_version": "1.5.0",
      "_view_name": "ProgressView",
      "bar_style": "success",
      "description": "",
      "description_tooltip": null,
      "layout": "IPY_MODEL_f2b3b39df2744fd08b2e8b97d10fe1ba",
      "max": 1,
      "min": 0,
      "orientation": "horizontal",
      "style": "IPY_MODEL_02511e039ad349c7b3c8abe2b3a48561",
      "value": 1
     }
    },
    "47946fd0044a42f3ba3fa23076c31ee0": {
     "model_module": "@jupyter-widgets/base",
     "model_module_version": "1.2.0",
     "model_name": "LayoutModel",
     "state": {
      "_model_module": "@jupyter-widgets/base",
      "_model_module_version": "1.2.0",
      "_model_name": "LayoutModel",
      "_view_count": null,
      "_view_module": "@jupyter-widgets/base",
      "_view_module_version": "1.2.0",
      "_view_name": "LayoutView",
      "align_content": null,
      "align_items": null,
      "align_self": null,
      "border": null,
      "bottom": null,
      "display": null,
      "flex": null,
      "flex_flow": null,
      "grid_area": null,
      "grid_auto_columns": null,
      "grid_auto_flow": null,
      "grid_auto_rows": null,
      "grid_column": null,
      "grid_gap": null,
      "grid_row": null,
      "grid_template_areas": null,
      "grid_template_columns": null,
      "grid_template_rows": null,
      "height": null,
      "justify_content": null,
      "justify_items": null,
      "left": null,
      "margin": null,
      "max_height": null,
      "max_width": null,
      "min_height": null,
      "min_width": null,
      "object_fit": null,
      "object_position": null,
      "order": null,
      "overflow": null,
      "overflow_x": null,
      "overflow_y": null,
      "padding": null,
      "right": null,
      "top": null,
      "visibility": null,
      "width": null
     }
    },
    "48dd18c9d4904e88b0d2530729a7d81a": {
     "model_module": "@jupyter-widgets/controls",
     "model_module_version": "1.5.0",
     "model_name": "DescriptionStyleModel",
     "state": {
      "_model_module": "@jupyter-widgets/controls",
      "_model_module_version": "1.5.0",
      "_model_name": "DescriptionStyleModel",
      "_view_count": null,
      "_view_module": "@jupyter-widgets/base",
      "_view_module_version": "1.2.0",
      "_view_name": "StyleView",
      "description_width": ""
     }
    },
    "505b78574e1440289fee6b2331d5c559": {
     "model_module": "@jupyter-widgets/controls",
     "model_module_version": "1.5.0",
     "model_name": "ProgressStyleModel",
     "state": {
      "_model_module": "@jupyter-widgets/controls",
      "_model_module_version": "1.5.0",
      "_model_name": "ProgressStyleModel",
      "_view_count": null,
      "_view_module": "@jupyter-widgets/base",
      "_view_module_version": "1.2.0",
      "_view_name": "StyleView",
      "bar_color": null,
      "description_width": ""
     }
    },
    "64243fcacba64c60a55ae1d59b5d85cb": {
     "model_module": "@jupyter-widgets/controls",
     "model_module_version": "1.5.0",
     "model_name": "HTMLModel",
     "state": {
      "_dom_classes": [],
      "_model_module": "@jupyter-widgets/controls",
      "_model_module_version": "1.5.0",
      "_model_name": "HTMLModel",
      "_view_count": null,
      "_view_module": "@jupyter-widgets/controls",
      "_view_module_version": "1.5.0",
      "_view_name": "HTMLView",
      "description": "",
      "description_tooltip": null,
      "layout": "IPY_MODEL_294c92bf7bb94357bda755e2c4576cf8",
      "placeholder": "​",
      "style": "IPY_MODEL_f5f02e63a78f4e3580dfbd1a5b631da9",
      "value": " 1250/1250 [04:31&lt;00:00,  4.64it/s]"
     }
    },
    "64ea848350bb4033b45bd60217951d00": {
     "model_module": "@jupyter-widgets/controls",
     "model_module_version": "1.5.0",
     "model_name": "HTMLModel",
     "state": {
      "_dom_classes": [],
      "_model_module": "@jupyter-widgets/controls",
      "_model_module_version": "1.5.0",
      "_model_name": "HTMLModel",
      "_view_count": null,
      "_view_module": "@jupyter-widgets/controls",
      "_view_module_version": "1.5.0",
      "_view_name": "HTMLView",
      "description": "",
      "description_tooltip": null,
      "layout": "IPY_MODEL_95482faebf79446693cb7359b1b1e3bb",
      "placeholder": "​",
      "style": "IPY_MODEL_bf333bab787d45d98bfa8ceb978be462",
      "value": " 223k/223k [00:00&lt;00:00, 9.89kB/s]"
     }
    },
    "66009db6ecfe4b64885aaa4e23ae2045": {
     "model_module": "@jupyter-widgets/controls",
     "model_module_version": "1.5.0",
     "model_name": "HBoxModel",
     "state": {
      "_dom_classes": [],
      "_model_module": "@jupyter-widgets/controls",
      "_model_module_version": "1.5.0",
      "_model_name": "HBoxModel",
      "_view_count": null,
      "_view_module": "@jupyter-widgets/controls",
      "_view_module_version": "1.5.0",
      "_view_name": "HBoxView",
      "box_style": "",
      "children": [
       "IPY_MODEL_f5f5ee57e0eb46cdb67bcb9a214b2acf",
       "IPY_MODEL_78c56b6a45934572ba1ff6b8cfeec45b",
       "IPY_MODEL_64243fcacba64c60a55ae1d59b5d85cb"
      ],
      "layout": "IPY_MODEL_794b43bc18c8401f84b309fc309c1171"
     }
    },
    "660719afeed34475917d70b67b8c69ad": {
     "model_module": "@jupyter-widgets/base",
     "model_module_version": "1.2.0",
     "model_name": "LayoutModel",
     "state": {
      "_model_module": "@jupyter-widgets/base",
      "_model_module_version": "1.2.0",
      "_model_name": "LayoutModel",
      "_view_count": null,
      "_view_module": "@jupyter-widgets/base",
      "_view_module_version": "1.2.0",
      "_view_name": "LayoutView",
      "align_content": null,
      "align_items": null,
      "align_self": null,
      "border": null,
      "bottom": null,
      "display": null,
      "flex": null,
      "flex_flow": null,
      "grid_area": null,
      "grid_auto_columns": null,
      "grid_auto_flow": null,
      "grid_auto_rows": null,
      "grid_column": null,
      "grid_gap": null,
      "grid_row": null,
      "grid_template_areas": null,
      "grid_template_columns": null,
      "grid_template_rows": null,
      "height": null,
      "justify_content": null,
      "justify_items": null,
      "left": null,
      "margin": null,
      "max_height": null,
      "max_width": null,
      "min_height": null,
      "min_width": null,
      "object_fit": null,
      "object_position": null,
      "order": null,
      "overflow": null,
      "overflow_x": null,
      "overflow_y": null,
      "padding": null,
      "right": null,
      "top": null,
      "visibility": null,
      "width": null
     }
    },
    "7564773e8ddc4dd999b451ea68a82008": {
     "model_module": "@jupyter-widgets/controls",
     "model_module_version": "1.5.0",
     "model_name": "DescriptionStyleModel",
     "state": {
      "_model_module": "@jupyter-widgets/controls",
      "_model_module_version": "1.5.0",
      "_model_name": "DescriptionStyleModel",
      "_view_count": null,
      "_view_module": "@jupyter-widgets/base",
      "_view_module_version": "1.2.0",
      "_view_name": "StyleView",
      "description_width": ""
     }
    },
    "78c56b6a45934572ba1ff6b8cfeec45b": {
     "model_module": "@jupyter-widgets/controls",
     "model_module_version": "1.5.0",
     "model_name": "FloatProgressModel",
     "state": {
      "_dom_classes": [],
      "_model_module": "@jupyter-widgets/controls",
      "_model_module_version": "1.5.0",
      "_model_name": "FloatProgressModel",
      "_view_count": null,
      "_view_module": "@jupyter-widgets/controls",
      "_view_module_version": "1.5.0",
      "_view_name": "ProgressView",
      "bar_style": "success",
      "description": "",
      "description_tooltip": null,
      "layout": "IPY_MODEL_9afb9fe307fd46119a7e19c919eb3a6b",
      "max": 1250,
      "min": 0,
      "orientation": "horizontal",
      "style": "IPY_MODEL_3218820be7784c76a934e0a4c5aa7f24",
      "value": 1250
     }
    },
    "794b43bc18c8401f84b309fc309c1171": {
     "model_module": "@jupyter-widgets/base",
     "model_module_version": "1.2.0",
     "model_name": "LayoutModel",
     "state": {
      "_model_module": "@jupyter-widgets/base",
      "_model_module_version": "1.2.0",
      "_model_name": "LayoutModel",
      "_view_count": null,
      "_view_module": "@jupyter-widgets/base",
      "_view_module_version": "1.2.0",
      "_view_name": "LayoutView",
      "align_content": null,
      "align_items": null,
      "align_self": null,
      "border": null,
      "bottom": null,
      "display": null,
      "flex": null,
      "flex_flow": null,
      "grid_area": null,
      "grid_auto_columns": null,
      "grid_auto_flow": null,
      "grid_auto_rows": null,
      "grid_column": null,
      "grid_gap": null,
      "grid_row": null,
      "grid_template_areas": null,
      "grid_template_columns": null,
      "grid_template_rows": null,
      "height": null,
      "justify_content": null,
      "justify_items": null,
      "left": null,
      "margin": null,
      "max_height": null,
      "max_width": null,
      "min_height": null,
      "min_width": null,
      "object_fit": null,
      "object_position": null,
      "order": null,
      "overflow": null,
      "overflow_x": null,
      "overflow_y": null,
      "padding": null,
      "right": null,
      "top": null,
      "visibility": null,
      "width": null
     }
    },
    "7d03e9a8f5a345718016b58f83205be4": {
     "model_module": "@jupyter-widgets/base",
     "model_module_version": "1.2.0",
     "model_name": "LayoutModel",
     "state": {
      "_model_module": "@jupyter-widgets/base",
      "_model_module_version": "1.2.0",
      "_model_name": "LayoutModel",
      "_view_count": null,
      "_view_module": "@jupyter-widgets/base",
      "_view_module_version": "1.2.0",
      "_view_name": "LayoutView",
      "align_content": null,
      "align_items": null,
      "align_self": null,
      "border": null,
      "bottom": null,
      "display": null,
      "flex": null,
      "flex_flow": null,
      "grid_area": null,
      "grid_auto_columns": null,
      "grid_auto_flow": null,
      "grid_auto_rows": null,
      "grid_column": null,
      "grid_gap": null,
      "grid_row": null,
      "grid_template_areas": null,
      "grid_template_columns": null,
      "grid_template_rows": null,
      "height": null,
      "justify_content": null,
      "justify_items": null,
      "left": null,
      "margin": null,
      "max_height": null,
      "max_width": null,
      "min_height": null,
      "min_width": null,
      "object_fit": null,
      "object_position": null,
      "order": null,
      "overflow": null,
      "overflow_x": null,
      "overflow_y": null,
      "padding": null,
      "right": null,
      "top": null,
      "visibility": null,
      "width": null
     }
    },
    "80ab9a74a31e426996fdfd4bf6e64bef": {
     "model_module": "@jupyter-widgets/controls",
     "model_module_version": "1.5.0",
     "model_name": "HBoxModel",
     "state": {
      "_dom_classes": [],
      "_model_module": "@jupyter-widgets/controls",
      "_model_module_version": "1.5.0",
      "_model_name": "HBoxModel",
      "_view_count": null,
      "_view_module": "@jupyter-widgets/controls",
      "_view_module_version": "1.5.0",
      "_view_name": "HBoxView",
      "box_style": "",
      "children": [
       "IPY_MODEL_a3ffdc095a68463c904e119e0e516218",
       "IPY_MODEL_46cd1651a7e64a7bb09e6760a1c21515",
       "IPY_MODEL_3891a1d9602741e7829db0d1d72cebee"
      ],
      "layout": "IPY_MODEL_0e01449d67424b6f9ef291fba8d5df91"
     }
    },
    "895e57831a0f4ce2ab2cf1d9f1f8f387": {
     "model_module": "@jupyter-widgets/controls",
     "model_module_version": "1.5.0",
     "model_name": "HTMLModel",
     "state": {
      "_dom_classes": [],
      "_model_module": "@jupyter-widgets/controls",
      "_model_module_version": "1.5.0",
      "_model_name": "HTMLModel",
      "_view_count": null,
      "_view_module": "@jupyter-widgets/controls",
      "_view_module_version": "1.5.0",
      "_view_name": "HTMLView",
      "description": "",
      "description_tooltip": null,
      "layout": "IPY_MODEL_1b4df5d653ab4ced84c0c7a31f56a4dc",
      "placeholder": "​",
      "style": "IPY_MODEL_debffda6ab9e466a9b3eebb5e6cc4560",
      "value": " 385/385 [00:00&lt;00:00, 3.45kB/s]"
     }
    },
    "95482faebf79446693cb7359b1b1e3bb": {
     "model_module": "@jupyter-widgets/base",
     "model_module_version": "1.2.0",
     "model_name": "LayoutModel",
     "state": {
      "_model_module": "@jupyter-widgets/base",
      "_model_module_version": "1.2.0",
      "_model_name": "LayoutModel",
      "_view_count": null,
      "_view_module": "@jupyter-widgets/base",
      "_view_module_version": "1.2.0",
      "_view_name": "LayoutView",
      "align_content": null,
      "align_items": null,
      "align_self": null,
      "border": null,
      "bottom": null,
      "display": null,
      "flex": null,
      "flex_flow": null,
      "grid_area": null,
      "grid_auto_columns": null,
      "grid_auto_flow": null,
      "grid_auto_rows": null,
      "grid_column": null,
      "grid_gap": null,
      "grid_row": null,
      "grid_template_areas": null,
      "grid_template_columns": null,
      "grid_template_rows": null,
      "height": null,
      "justify_content": null,
      "justify_items": null,
      "left": null,
      "margin": null,
      "max_height": null,
      "max_width": null,
      "min_height": null,
      "min_width": null,
      "object_fit": null,
      "object_position": null,
      "order": null,
      "overflow": null,
      "overflow_x": null,
      "overflow_y": null,
      "padding": null,
      "right": null,
      "top": null,
      "visibility": null,
      "width": null
     }
    },
    "9afb9fe307fd46119a7e19c919eb3a6b": {
     "model_module": "@jupyter-widgets/base",
     "model_module_version": "1.2.0",
     "model_name": "LayoutModel",
     "state": {
      "_model_module": "@jupyter-widgets/base",
      "_model_module_version": "1.2.0",
      "_model_name": "LayoutModel",
      "_view_count": null,
      "_view_module": "@jupyter-widgets/base",
      "_view_module_version": "1.2.0",
      "_view_name": "LayoutView",
      "align_content": null,
      "align_items": null,
      "align_self": null,
      "border": null,
      "bottom": null,
      "display": null,
      "flex": null,
      "flex_flow": null,
      "grid_area": null,
      "grid_auto_columns": null,
      "grid_auto_flow": null,
      "grid_auto_rows": null,
      "grid_column": null,
      "grid_gap": null,
      "grid_row": null,
      "grid_template_areas": null,
      "grid_template_columns": null,
      "grid_template_rows": null,
      "height": null,
      "justify_content": null,
      "justify_items": null,
      "left": null,
      "margin": null,
      "max_height": null,
      "max_width": null,
      "min_height": null,
      "min_width": null,
      "object_fit": null,
      "object_position": null,
      "order": null,
      "overflow": null,
      "overflow_x": null,
      "overflow_y": null,
      "padding": null,
      "right": null,
      "top": null,
      "visibility": null,
      "width": null
     }
    },
    "a3ffdc095a68463c904e119e0e516218": {
     "model_module": "@jupyter-widgets/controls",
     "model_module_version": "1.5.0",
     "model_name": "HTMLModel",
     "state": {
      "_dom_classes": [],
      "_model_module": "@jupyter-widgets/controls",
      "_model_module_version": "1.5.0",
      "_model_name": "HTMLModel",
      "_view_count": null,
      "_view_module": "@jupyter-widgets/controls",
      "_view_module_version": "1.5.0",
      "_view_name": "HTMLView",
      "description": "",
      "description_tooltip": null,
      "layout": "IPY_MODEL_02fa65eeeac8475392255109a30ffd14",
      "placeholder": "​",
      "style": "IPY_MODEL_1a9e318756854bffa4a9cbda55d24fee",
      "value": "Epoch: 100%"
     }
    },
    "a86d31f033074931b02530143a3de66d": {
     "model_module": "@jupyter-widgets/controls",
     "model_module_version": "1.5.0",
     "model_name": "FloatProgressModel",
     "state": {
      "_dom_classes": [],
      "_model_module": "@jupyter-widgets/controls",
      "_model_module_version": "1.5.0",
      "_model_name": "FloatProgressModel",
      "_view_count": null,
      "_view_module": "@jupyter-widgets/controls",
      "_view_module_version": "1.5.0",
      "_view_name": "ProgressView",
      "bar_style": "success",
      "description": "",
      "description_tooltip": null,
      "layout": "IPY_MODEL_c549b816ccc4443ca96755f720f2c480",
      "max": 385,
      "min": 0,
      "orientation": "horizontal",
      "style": "IPY_MODEL_0d2ad3621cb543e78fae90bfa660c67e",
      "value": 385
     }
    },
    "a8a40a8f1a15473188a54d9b323f71bb": {
     "model_module": "@jupyter-widgets/base",
     "model_module_version": "1.2.0",
     "model_name": "LayoutModel",
     "state": {
      "_model_module": "@jupyter-widgets/base",
      "_model_module_version": "1.2.0",
      "_model_name": "LayoutModel",
      "_view_count": null,
      "_view_module": "@jupyter-widgets/base",
      "_view_module_version": "1.2.0",
      "_view_name": "LayoutView",
      "align_content": null,
      "align_items": null,
      "align_self": null,
      "border": null,
      "bottom": null,
      "display": null,
      "flex": null,
      "flex_flow": null,
      "grid_area": null,
      "grid_auto_columns": null,
      "grid_auto_flow": null,
      "grid_auto_rows": null,
      "grid_column": null,
      "grid_gap": null,
      "grid_row": null,
      "grid_template_areas": null,
      "grid_template_columns": null,
      "grid_template_rows": null,
      "height": null,
      "justify_content": null,
      "justify_items": null,
      "left": null,
      "margin": null,
      "max_height": null,
      "max_width": null,
      "min_height": null,
      "min_width": null,
      "object_fit": null,
      "object_position": null,
      "order": null,
      "overflow": null,
      "overflow_x": null,
      "overflow_y": null,
      "padding": null,
      "right": null,
      "top": null,
      "visibility": null,
      "width": null
     }
    },
    "af5c8f0ce24c4c4eb2149d0a526e1037": {
     "model_module": "@jupyter-widgets/base",
     "model_module_version": "1.2.0",
     "model_name": "LayoutModel",
     "state": {
      "_model_module": "@jupyter-widgets/base",
      "_model_module_version": "1.2.0",
      "_model_name": "LayoutModel",
      "_view_count": null,
      "_view_module": "@jupyter-widgets/base",
      "_view_module_version": "1.2.0",
      "_view_name": "LayoutView",
      "align_content": null,
      "align_items": null,
      "align_self": null,
      "border": null,
      "bottom": null,
      "display": null,
      "flex": null,
      "flex_flow": null,
      "grid_area": null,
      "grid_auto_columns": null,
      "grid_auto_flow": null,
      "grid_auto_rows": null,
      "grid_column": null,
      "grid_gap": null,
      "grid_row": null,
      "grid_template_areas": null,
      "grid_template_columns": null,
      "grid_template_rows": null,
      "height": null,
      "justify_content": null,
      "justify_items": null,
      "left": null,
      "margin": null,
      "max_height": null,
      "max_width": null,
      "min_height": null,
      "min_width": null,
      "object_fit": null,
      "object_position": null,
      "order": null,
      "overflow": null,
      "overflow_x": null,
      "overflow_y": null,
      "padding": null,
      "right": null,
      "top": null,
      "visibility": null,
      "width": null
     }
    },
    "bf333bab787d45d98bfa8ceb978be462": {
     "model_module": "@jupyter-widgets/controls",
     "model_module_version": "1.5.0",
     "model_name": "DescriptionStyleModel",
     "state": {
      "_model_module": "@jupyter-widgets/controls",
      "_model_module_version": "1.5.0",
      "_model_name": "DescriptionStyleModel",
      "_view_count": null,
      "_view_module": "@jupyter-widgets/base",
      "_view_module_version": "1.2.0",
      "_view_name": "StyleView",
      "description_width": ""
     }
    },
    "c549b816ccc4443ca96755f720f2c480": {
     "model_module": "@jupyter-widgets/base",
     "model_module_version": "1.2.0",
     "model_name": "LayoutModel",
     "state": {
      "_model_module": "@jupyter-widgets/base",
      "_model_module_version": "1.2.0",
      "_model_name": "LayoutModel",
      "_view_count": null,
      "_view_module": "@jupyter-widgets/base",
      "_view_module_version": "1.2.0",
      "_view_name": "LayoutView",
      "align_content": null,
      "align_items": null,
      "align_self": null,
      "border": null,
      "bottom": null,
      "display": null,
      "flex": null,
      "flex_flow": null,
      "grid_area": null,
      "grid_auto_columns": null,
      "grid_auto_flow": null,
      "grid_auto_rows": null,
      "grid_column": null,
      "grid_gap": null,
      "grid_row": null,
      "grid_template_areas": null,
      "grid_template_columns": null,
      "grid_template_rows": null,
      "height": null,
      "justify_content": null,
      "justify_items": null,
      "left": null,
      "margin": null,
      "max_height": null,
      "max_width": null,
      "min_height": null,
      "min_width": null,
      "object_fit": null,
      "object_position": null,
      "order": null,
      "overflow": null,
      "overflow_x": null,
      "overflow_y": null,
      "padding": null,
      "right": null,
      "top": null,
      "visibility": null,
      "width": null
     }
    },
    "debffda6ab9e466a9b3eebb5e6cc4560": {
     "model_module": "@jupyter-widgets/controls",
     "model_module_version": "1.5.0",
     "model_name": "DescriptionStyleModel",
     "state": {
      "_model_module": "@jupyter-widgets/controls",
      "_model_module_version": "1.5.0",
      "_model_name": "DescriptionStyleModel",
      "_view_count": null,
      "_view_module": "@jupyter-widgets/base",
      "_view_module_version": "1.2.0",
      "_view_name": "StyleView",
      "description_width": ""
     }
    },
    "e14f40a81879482fba070c6b5db622b7": {
     "model_module": "@jupyter-widgets/base",
     "model_module_version": "1.2.0",
     "model_name": "LayoutModel",
     "state": {
      "_model_module": "@jupyter-widgets/base",
      "_model_module_version": "1.2.0",
      "_model_name": "LayoutModel",
      "_view_count": null,
      "_view_module": "@jupyter-widgets/base",
      "_view_module_version": "1.2.0",
      "_view_name": "LayoutView",
      "align_content": null,
      "align_items": null,
      "align_self": null,
      "border": null,
      "bottom": null,
      "display": null,
      "flex": null,
      "flex_flow": null,
      "grid_area": null,
      "grid_auto_columns": null,
      "grid_auto_flow": null,
      "grid_auto_rows": null,
      "grid_column": null,
      "grid_gap": null,
      "grid_row": null,
      "grid_template_areas": null,
      "grid_template_columns": null,
      "grid_template_rows": null,
      "height": null,
      "justify_content": null,
      "justify_items": null,
      "left": null,
      "margin": null,
      "max_height": null,
      "max_width": null,
      "min_height": null,
      "min_width": null,
      "object_fit": null,
      "object_position": null,
      "order": null,
      "overflow": null,
      "overflow_x": null,
      "overflow_y": null,
      "padding": null,
      "right": null,
      "top": null,
      "visibility": null,
      "width": null
     }
    },
    "f2b3b39df2744fd08b2e8b97d10fe1ba": {
     "model_module": "@jupyter-widgets/base",
     "model_module_version": "1.2.0",
     "model_name": "LayoutModel",
     "state": {
      "_model_module": "@jupyter-widgets/base",
      "_model_module_version": "1.2.0",
      "_model_name": "LayoutModel",
      "_view_count": null,
      "_view_module": "@jupyter-widgets/base",
      "_view_module_version": "1.2.0",
      "_view_name": "LayoutView",
      "align_content": null,
      "align_items": null,
      "align_self": null,
      "border": null,
      "bottom": null,
      "display": null,
      "flex": null,
      "flex_flow": null,
      "grid_area": null,
      "grid_auto_columns": null,
      "grid_auto_flow": null,
      "grid_auto_rows": null,
      "grid_column": null,
      "grid_gap": null,
      "grid_row": null,
      "grid_template_areas": null,
      "grid_template_columns": null,
      "grid_template_rows": null,
      "height": null,
      "justify_content": null,
      "justify_items": null,
      "left": null,
      "margin": null,
      "max_height": null,
      "max_width": null,
      "min_height": null,
      "min_width": null,
      "object_fit": null,
      "object_position": null,
      "order": null,
      "overflow": null,
      "overflow_x": null,
      "overflow_y": null,
      "padding": null,
      "right": null,
      "top": null,
      "visibility": null,
      "width": null
     }
    },
    "f5f02e63a78f4e3580dfbd1a5b631da9": {
     "model_module": "@jupyter-widgets/controls",
     "model_module_version": "1.5.0",
     "model_name": "DescriptionStyleModel",
     "state": {
      "_model_module": "@jupyter-widgets/controls",
      "_model_module_version": "1.5.0",
      "_model_name": "DescriptionStyleModel",
      "_view_count": null,
      "_view_module": "@jupyter-widgets/base",
      "_view_module_version": "1.2.0",
      "_view_name": "StyleView",
      "description_width": ""
     }
    },
    "f5f5ee57e0eb46cdb67bcb9a214b2acf": {
     "model_module": "@jupyter-widgets/controls",
     "model_module_version": "1.5.0",
     "model_name": "HTMLModel",
     "state": {
      "_dom_classes": [],
      "_model_module": "@jupyter-widgets/controls",
      "_model_module_version": "1.5.0",
      "_model_name": "HTMLModel",
      "_view_count": null,
      "_view_module": "@jupyter-widgets/controls",
      "_view_module_version": "1.5.0",
      "_view_name": "HTMLView",
      "description": "",
      "description_tooltip": null,
      "layout": "IPY_MODEL_e14f40a81879482fba070c6b5db622b7",
      "placeholder": "​",
      "style": "IPY_MODEL_26701fcf6e99409bbf57bbb939168d44",
      "value": "Iteration: 100%"
     }
    }
   }
  }
 },
 "nbformat": 4,
 "nbformat_minor": 5
}
