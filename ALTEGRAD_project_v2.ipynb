{
  "cells": [
    {
      "cell_type": "markdown",
      "metadata": {
        "id": "DhGtlA7RYYpV"
      },
      "source": [
        "<center><h2>ALTEGRAD Project</h2>\n",
        "\n",
        "<hr>\n",
        "<span style=\"font-variant: small-caps;\">Xavier Jiménez, Jean Quentin, Sacha Revol</span><br>\n",
        "<hr>\n",
        "</center>"
      ]
    },
    {
      "cell_type": "markdown",
      "metadata": {
        "id": "x1FMzZfeYMgQ"
      },
      "source": [
        "# Imports"
      ]
    },
    {
      "cell_type": "code",
      "execution_count": 1,
      "metadata": {
        "colab": {
          "base_uri": "https://localhost:8080/"
        },
        "id": "uCeqWnCtUBiW",
        "outputId": "1caa3353-4986-4b40-e960-35483c5c1a34"
      },
      "outputs": [],
      "source": [
        "import networkx as nx\n",
        "import os\n",
        "import csv\n",
        "import numpy as np\n",
        "import pandas as pd\n",
        "from random import randint\n",
        "from sklearn.linear_model import LogisticRegression\n",
        "from sklearn.metrics import log_loss\n",
        "# import nltk\n",
        "# nltk.download('stopwords')\n",
        "# nltk.download('punkt')\n",
        "from nltk import word_tokenize\n",
        "from nltk.corpus import stopwords\n",
        "from nltk.stem.porter import PorterStemmer\n",
        "import string\n",
        "from tqdm import tqdm\n",
        "\n",
        "# !pip install pip install karateclub\n",
        "from gensim.models.doc2vec import Doc2Vec\n",
        "from os import path\n",
        "import pickle\n",
        "from scipy import spatial\n",
        "import random\n",
        "from sklearn import preprocessing\n",
        "from gensim.models import KeyedVectors\n",
        "from sklearn.metrics import pairwise\n",
        "\n",
        "from sklearn.model_selection import train_test_split\n",
        "from hyperopt import fmin, hp, tpe, Trials, space_eval, STATUS_OK\n",
        "from sklearn.ensemble import RandomForestClassifier\n",
        "\n",
        "import shap\n"
      ]
    },
    {
      "cell_type": "markdown",
      "metadata": {},
      "source": [
        "# Load preprocessed files"
      ]
    },
    {
      "cell_type": "markdown",
      "metadata": {},
      "source": [
        "These files are created in `Preprocessing.ipynb`"
      ]
    },
    {
      "cell_type": "code",
      "execution_count": 2,
      "metadata": {},
      "outputs": [],
      "source": [
        "def load_authors():\n",
        "    \"\"\"Read the abstract of each paper\"\"\"\n",
        "    \n",
        "    try:\n",
        "        print('Loading unique authors preprocessed')\n",
        "        a_file = open(\"data/unique_authors_dict.pkl\", \"rb\")\n",
        "        authors = pickle.load(a_file)\n",
        "        a_file.close()\n",
        "    except:\n",
        "        raise SyntaxError(\"File 'unique_authors_dict.pkl' was not found in 'data/'\")\n",
        "    \n",
        "    return authors"
      ]
    },
    {
      "cell_type": "code",
      "execution_count": 3,
      "metadata": {
        "colab": {
          "base_uri": "https://localhost:8080/"
        },
        "id": "e5j-YMepW46s",
        "outputId": "ec1883d8-fac2-423c-eb09-3e747c18f393"
      },
      "outputs": [],
      "source": [
        "def load_abstracts():\n",
        "    \"\"\"Read the abstract of each paper\"\"\"\n",
        "    \n",
        "    try:\n",
        "        print('Loading abstract preprocessed')\n",
        "        a_file = open(\"data/abstract_preprocessed.pkl\", \"rb\")\n",
        "        abstracts = pickle.load(a_file)\n",
        "        a_file.close()\n",
        "    except:\n",
        "        raise SyntaxError(\"File 'abstract_preprocessed.pkl' was not found in 'data/'\")\n",
        "    \n",
        "    return abstracts"
      ]
    },
    {
      "cell_type": "markdown",
      "metadata": {
        "id": "K5LbuWc0eF6U"
      },
      "source": [
        "# Functions"
      ]
    },
    {
      "cell_type": "markdown",
      "metadata": {},
      "source": [
        "## Training and submission"
      ]
    },
    {
      "cell_type": "code",
      "execution_count": 4,
      "metadata": {},
      "outputs": [],
      "source": [
        "def train(X_train, X_test, y_train, y_test = None, normalize = True, model = LogisticRegression(max_iter = 300)):\n",
        "    if normalize:\n",
        "        scaler = preprocessing.StandardScaler().fit(X_train)\n",
        "\n",
        "        X_train = scaler.transform(X_train)\n",
        "        X_test = scaler.fit_transform(X_test)\n",
        "    \n",
        "    model.fit(X_train, y_train)\n",
        "    y_pred = model.predict_proba(X_test)\n",
        "    y_pred = y_pred[:,1]\n",
        "    if y_test is not None:\n",
        "        print('Validation loss = {:.4f}'.format(log_loss(y_test, y_pred)))\n",
        "    else:\n",
        "        # Write predictions to a file\n",
        "        print('Creating submission')\n",
        "        predictions = zip(range(len(y_pred)), y_pred)\n",
        "        # os.remove(\"data/submission.csv\")\n",
        "        with open(\"data/submission.csv\",\"w\") as pred:\n",
        "            csv_out = csv.writer(pred)\n",
        "            csv_out.writerow(['id','predicted'])\n",
        "            for row in predictions:\n",
        "                csv_out.writerow(row)\n",
        "        print('Submision created')\n",
        "    return y_pred, model"
      ]
    },
    {
      "cell_type": "markdown",
      "metadata": {},
      "source": [
        "## Feature matrix creation"
      ]
    },
    {
      "cell_type": "markdown",
      "metadata": {},
      "source": [
        "We divide the feature matrix creation into many functions. \n",
        "\n",
        "- Default matrix computes baseline features along with authors in common and average degree connectivity.\n",
        "- Params matrix computes node functions\n",
        "- Embedding matrix computes embedding features with a similarity distance\n",
        "- Edge embedding computes edge embedding matrix using haddamard product\n",
        "- Other features computes edge functions"
      ]
    },
    {
      "cell_type": "code",
      "execution_count": 23,
      "metadata": {},
      "outputs": [],
      "source": [
        "feature_names = [\n",
        "    '(S) Abstract size', '(D) Abstract size', 'Words in common', '(S) Degree', '(D) Degree', 'Authors in common', '(S) Avg deg connectivity', '(D) Avg deg connectivity',\n",
        "    '(S) Avg neigh deg', '(D) Avg neigh deg', '(S) Pagerank', '(D) Pagerank', '(S) Eig centrality', '(D) Eig centrality', '(S) Greedy color', '(D) Greedy color',\n",
        "    '(S) Triangles', '(D) Triangles', '(S) Core number', '(D) Core number', '(S) Onion number', '(D) Onion number', '(S) Degree centrality', '(D) Degree centrality',\n",
        "    '(S) Clustering', '(D) Clustering', 'Sentence Transformer', 'Co-authors N2V','Doc2Vec', 'N2V Main', 'Walklets Main', 'N2V authors citation', 'Salton index', \n",
        "    'Academic Adar Index', 'Jaccard Coefficient', 'Pref Attachment', 'Shortest Path', 'Hub Depressed Index', 'Ressource Allocation Index'\n",
        "]"
      ]
    },
    {
      "cell_type": "markdown",
      "metadata": {},
      "source": [
        "### Common functions for matrix creation"
      ]
    },
    {
      "cell_type": "code",
      "execution_count": 5,
      "metadata": {},
      "outputs": [],
      "source": [
        "def load_info(validation = True):\n",
        "    \"\"\"This function returns validation/test node pairs list and\n",
        "    validation/test + train random nodes that will be used to create\n",
        "    feature matrix. These lists have a fixed seed.\n",
        "\n",
        "    Args:\n",
        "        validation (bool, optional): If True, will return validation lists.\n",
        "        Else, will return test lists. Defaults to True.\n",
        "\n",
        "    Returns:\n",
        "        lists: validation/test node pairs list and labels\n",
        "    \"\"\"\n",
        "      \n",
        "        \n",
        "    if validation:\n",
        "        node_pairs = pd.read_csv('data/train_val_node_pairs.csv')\n",
        "        labels = pd.read_csv('data/train_val_labels.csv')\n",
        "        \n",
        "        train_node_pairs, val_node_pairs, train_labels, val_labels = train_test_split(node_pairs, \n",
        "                                                                                      labels, \n",
        "                                                                                      train_size=0.8, \n",
        "                                                                                      test_size=0.2, \n",
        "                                                                                      random_state=42)\n",
        "        np.save('data/y_train_val', train_labels.to_numpy().ravel())\n",
        "        np.save('data/y_val', val_labels.to_numpy().ravel())\n",
        "        \n",
        "        return train_node_pairs.to_numpy(), val_node_pairs.to_numpy()\n",
        "    else:\n",
        "        test_node_pairs = list()\n",
        "        with open('data/test.txt', 'r') as f:\n",
        "            for line in f:\n",
        "                t = line.split(',')\n",
        "                test_node_pairs.append((int(t[0]), int(t[1])))\n",
        "                \n",
        "        train_node_pairs = pd.read_csv('data/train_test_node_pairs.csv')\n",
        "        train_labels = pd.read_csv('data/train_test_labels.csv')\n",
        "        \n",
        "        np.save('data/y_train', train_labels.to_numpy().ravel())\n",
        "                \n",
        "        return train_node_pairs.to_numpy(), test_node_pairs"
      ]
    },
    {
      "cell_type": "markdown",
      "metadata": {},
      "source": [
        "### Default matrix creation"
      ]
    },
    {
      "cell_type": "code",
      "execution_count": 6,
      "metadata": {},
      "outputs": [],
      "source": [
        "def create_default_matrix(G_train, G_test, validation = True):\n",
        "    \"\"\"Creates feature matrix with baseline features. \n",
        "\n",
        "    Args:\n",
        "        G_train (NetworkX Graph): Training Graph loaded with NetworkX library.\n",
        "        G_test (NetworkX Graph): Test/validation Graph loaded with NetworkX library.\n",
        "        validation (bool, optional): If True, will return validation lists.\n",
        "        Else, will return test lists. Defaults to True.\n",
        "    \"\"\"\n",
        "\n",
        "    n_features = 8\n",
        "    \n",
        "    \n",
        "    if validation:\n",
        "        train_node_pairs, val_node_pairs = load_info(validation = validation)\n",
        "        X_val = np.zeros((len(val_node_pairs), n_features))\n",
        "    else:\n",
        "        train_node_pairs, test_node_pairs = load_info(validation = validation)\n",
        "        X_test = np.zeros((len(test_node_pairs), n_features))           \n",
        "    X_train = np.zeros((len(train_node_pairs), n_features))\n",
        "    \n",
        "    authors = load_authors()\n",
        "    abstracts = load_abstracts()\n",
        "    \n",
        "    for i, train_edge in tqdm(enumerate(train_node_pairs)):\n",
        "        X_train = fill_default_matrix(i, G_train, X_train, train_edge, authors, abstracts)\n",
        "    if validation:\n",
        "        np.save('data/X_train_val_default.npy', X_train)\n",
        "        for i, val_edge in tqdm(enumerate(val_node_pairs)):\n",
        "            X_val = fill_default_matrix(i, G_test, X_val, val_edge, authors, abstracts)\n",
        "        np.save('data/X_val_default.npy', X_val)\n",
        "    else:\n",
        "        np.save('data/X_train_default.npy', X_train)\n",
        "        for i, test_edge in tqdm(enumerate(test_node_pairs)):\n",
        "            X_test = fill_default_matrix(i, G_test, X_test, test_edge, authors, abstracts)\n",
        "        np.save('data/X_test_default.npy', X_test)\n",
        "        \n",
        "        \n",
        "def fill_default_matrix(i, G, X, edge, authors, abstracts):\n",
        "    \"\"\"\n",
        "    Fills each line of the default feature matrix.\n",
        "    \"\"\"\n",
        "    deg0, deg1 = G.degree(edge[0]), G.degree(edge[1])\n",
        "    X[i,0] = len(abstracts[edge[0]]) + len(abstracts[edge[1]])\n",
        "    X[i,1] = abs(len(abstracts[edge[0]]) - len(abstracts[edge[1]]))\n",
        "    X[i,2] = len(set(abstracts[edge[0]]).intersection(set(abstracts[edge[1]])))\n",
        "    X[i,3] = deg0 + deg1\n",
        "    X[i,4] = abs(deg0 - deg1)\n",
        "    X[i,5] = len(set(authors[edge[0]]).intersection(set(authors[edge[1]])))\n",
        "    X[i,6] = nx.average_degree_connectivity(G, nodes = edge[0])[deg0] + nx.average_degree_connectivity(G, nodes = edge[1])[deg1]\n",
        "    X[i,7] = abs(nx.average_degree_connectivity(G, nodes = edge[0])[deg0] - nx.average_degree_connectivity(G, nodes = edge[1])[deg1])\n",
        "\n",
        "    return X"
      ]
    },
    {
      "cell_type": "markdown",
      "metadata": {},
      "source": [
        "### Param matrix creation"
      ]
    },
    {
      "cell_type": "code",
      "execution_count": 7,
      "metadata": {},
      "outputs": [],
      "source": [
        "def create_param_matrix(G_train, G_test, authors = False, validation = True):\n",
        "    \"\"\"Creates Graph parameters feature matrix. \n",
        "\n",
        "    Args:\n",
        "        G_train (NetworkX Graph): Training Graph loaded with NetworkX library.\n",
        "        G_test (NetworkX Graph): Test/validation Graph loaded with NetworkX library.\n",
        "        authors (bool, optional): If true, files are saved with authors extension. Author graphs should be used when True.\n",
        "                                  Defaults to False.\n",
        "        validation (bool, optional): If True, will return validation lists.\n",
        "        Else, will return test lists. Defaults to True.\n",
        "    \"\"\"\n",
        "\n",
        "    \n",
        "    n_features = 2*9\n",
        "    \n",
        "    if validation:\n",
        "        train_node_pairs, val_node_pairs = load_info(validation = validation)\n",
        "        X_val = np.zeros((len(val_node_pairs), n_features))\n",
        "    else:\n",
        "        train_node_pairs, test_node_pairs = load_info(validation = validation)\n",
        "        X_test = np.zeros((len(test_node_pairs), n_features))           \n",
        "    X_train = np.zeros((len(train_node_pairs), n_features))\n",
        "    \n",
        "    \n",
        "    avg_neighbor_degree = nx.average_neighbor_degree(G_train)\n",
        "    pagerank = nx.pagerank(G_train)\n",
        "    eig_centrality = nx.eigenvector_centrality_numpy(G_train)\n",
        "    greedy_color = nx.greedy_color(G_train)\n",
        "    triangles = nx.triangles(G_train)\n",
        "    \n",
        "    core_number = nx.core_number(G_train)\n",
        "    onion_number = nx.onion_layers(G_train)\n",
        "    degree_centrality = nx.degree_centrality(G_train)\n",
        "    clustering = nx.clustering(G_train)\n",
        "\n",
        "    parameters = {'avg_neighbor_degree': avg_neighbor_degree, 'pagerank': pagerank, 'eig_centrality': eig_centrality,\n",
        "                  'greedy_color': greedy_color, 'triangles': triangles, 'core_number': core_number, 'onion_number': onion_number,\n",
        "                  'degree_centrality': degree_centrality, 'clustering': clustering}\n",
        "                \n",
        "    for i, train_edge in tqdm(enumerate(train_node_pairs)):\n",
        "        X_train = fill_param_matrix(i, X_train, train_edge, **parameters)\n",
        "    avg_neighbor_degree = nx.average_neighbor_degree(G_test)\n",
        "    pagerank = nx.pagerank(G_test)\n",
        "    eig_centrality = nx.eigenvector_centrality_numpy(G_test)\n",
        "    greedy_color = nx.greedy_color(G_test)\n",
        "    triangles = nx.triangles(G_test)\n",
        "    \n",
        "    core_number = nx.core_number(G_test)\n",
        "    onion_number = nx.onion_layers(G_test)\n",
        "    avg_neighbor_degree = nx.average_neighbor_degree(G_test)\n",
        "    degree_centrality = nx.degree_centrality(G_test)\n",
        "    clustering = nx.clustering(G_test)\n",
        "    \n",
        "    parameters = {'avg_neighbor_degree': avg_neighbor_degree, 'pagerank': pagerank, 'eig_centrality': eig_centrality,\n",
        "                  'greedy_color': greedy_color, 'triangles': triangles, 'core_number': core_number, 'onion_number': onion_number,\n",
        "                  'degree_centrality': degree_centrality, 'clustering': clustering}\n",
        "    if validation:\n",
        "        if not authors:\n",
        "            np.save('data/X_train_val_param', X_train)\n",
        "        else:\n",
        "            np.save('data/X_train_val_param_authors', X_train)\n",
        "        for i, val_edge in tqdm(enumerate(val_node_pairs)):\n",
        "            X_val = fill_param_matrix(i, X_val, val_edge, **parameters)\n",
        "        if not authors:\n",
        "            np.save('data/X_val_param', X_val)\n",
        "        else:\n",
        "            np.save('data/X_val_param_authors', X_val)\n",
        "    else:\n",
        "        np.save('data/X_train_param', X_train)\n",
        "        for i, test_edge in tqdm(enumerate(test_node_pairs)):\n",
        "            X_test = fill_param_matrix(i, X_test, test_edge, **parameters)\n",
        "        if not authors:\n",
        "            np.save('data/X_test_param.npy', X_test)\n",
        "        else:\n",
        "            np.save('data/X_test_param_authors.npy', X_test)\n",
        "        \n",
        "        \n",
        "def fill_param_matrix(i, X, edge, avg_neighbor_degree, pagerank, eig_centrality, greedy_color, triangles, \n",
        "                      core_number, onion_number, degree_centrality, clustering):\n",
        "    \"\"\"\n",
        "    Fills each line of the Graph parameters feature matrix.\n",
        "    \"\"\"\n",
        "    \n",
        "    X[i,0] = avg_neighbor_degree[edge[0]] + avg_neighbor_degree[edge[1]]\n",
        "    X[i,1] = abs(avg_neighbor_degree[edge[0]] - avg_neighbor_degree[edge[1]])\n",
        "\n",
        "    X[i,2] = pagerank[edge[0]] + pagerank[edge[1]]\n",
        "    X[i,3] = abs(pagerank[edge[0]] - pagerank[edge[1]])\n",
        "\n",
        "    X[i,4] = eig_centrality[edge[0]] + eig_centrality[edge[1]]\n",
        "    X[i,5] = abs(eig_centrality[edge[0]] - eig_centrality[edge[1]])\n",
        "\n",
        "    X[i,6] = greedy_color[edge[0]] + greedy_color[edge[1]]\n",
        "    X[i,7] = abs(greedy_color[edge[0]] - greedy_color[edge[1]])\n",
        "\n",
        "    X[i,8] = triangles[edge[0]] + triangles[edge[1]]\n",
        "    X[i,9] = abs(triangles[edge[0]] - triangles[edge[1]])\n",
        "    \n",
        "    X[i,10] = core_number[edge[0]] + core_number[edge[1]]\n",
        "    X[i,11] = abs(core_number[edge[0]] - core_number[edge[1]])\n",
        "    \n",
        "    X[i,12] = onion_number[edge[0]] + onion_number[edge[1]]\n",
        "    X[i,13] = abs(onion_number[edge[0]] - onion_number[edge[1]])\n",
        "    \n",
        "    X[i,14] = degree_centrality[edge[0]] + degree_centrality[edge[1]]\n",
        "    X[i,15] = abs(degree_centrality[edge[0]] -degree_centrality[edge[1]])\n",
        "    \n",
        "    X[i,16] = clustering[edge[0]] + clustering[edge[1]]\n",
        "    X[i,17] = abs(clustering[edge[0]] - clustering[edge[1]])\n",
        "    \n",
        "    return X"
      ]
    },
    {
      "cell_type": "markdown",
      "metadata": {},
      "source": [
        "### Embedding Matrix creation"
      ]
    },
    {
      "cell_type": "code",
      "execution_count": 21,
      "metadata": {},
      "outputs": [],
      "source": [
        "def create_embeddings_matrix(distance, validation = True):\n",
        "    \"\"\"Creates Graph embeddings feature matrix.\n",
        "\n",
        "    Args:\n",
        "        distance (scipy spatial distance): Function that takes two 1d arrays\n",
        "        and outputs a float. Recommended: cosine distance.\n",
        "        validation (bool, optional): If True, will return validation lists.\n",
        "        Else, will return test lists. Defaults to True.\n",
        "    \"\"\"\n",
        "\n",
        "    n2v_parameters = {'walk_number': 10, 'walk_length': 15, 'dimensions': 64, 'window_size': 5}\n",
        "    d2v_parameters = {'vector_size':64, 'window':5, 'min_count':2, 'epochs':100}\n",
        "    walkets_parameters = {'walk_number': 10, 'walk_length': 80, 'dimensions': 64, 'window_size': 5}\n",
        "\n",
        "    d2v = Doc2Vec.load(\"data/abstracts_embedding_doc2vec_vs{:d}_w{:d}_mc{:d}_e{:d}\".format(d2v_parameters['vector_size'], d2v_parameters['window'],\n",
        "                                                                               d2v_parameters['min_count'], d2v_parameters['epochs']))\n",
        "\n",
        "    # specter_emb = np.load('data/embeddings_19_02.npy')\n",
        "    with open(f'data/embeddings_19_02_best_2.npy', 'rb') as f:\n",
        "        specter_emb = np.load(f)\n",
        "    \n",
        "    co_authors_emb = np.load('data/sum_papers_features_from_embedding_n2v_unique_co_authors_wn10_wl15_d64_ws5.npy')\n",
        "        \n",
        "    embeddings = [specter_emb, co_authors_emb, d2v]\n",
        "    \n",
        "    if validation:\n",
        "        embeddings_val = [specter_emb, co_authors_emb, d2v]\n",
        "        \n",
        "        n2v = np.load('data/embedding_n2v_train_val_wn{:d}_wl{:d}_d{:d}_ws{:d}.npy'.format(n2v_parameters['walk_number'], n2v_parameters['walk_length'],\n",
        "                                                                n2v_parameters['dimensions'], n2v_parameters['window_size']))\n",
        "        \n",
        "        walkets = np.load('data/embedding_Walklets_train_val_wn{:d}_wl{:d}_d{:d}_ws{:d}.npy'.format(walkets_parameters['walk_number'], walkets_parameters['walk_length'],\n",
        "                                                                walkets_parameters['dimensions'], walkets_parameters['window_size']))\n",
        "        # authors_citation_emb = np.load('data/mean_papers_features_from_embedding_n2v_citation_graph_train_wn10_wl15_d64_ws5.npy')\n",
        "        authors_citation_emb = np.load('data/mean_papers_features_from_embedding_n2v_unique_citation_graph_train_wn10_wl15_d64_ws5.npy')\n",
        "        # authors_citation_walklets = np.load('data/mean_papers_features_from_embedding_Walklets_citation_graph_train_wn10_wl80_d64_ws5.npy')\n",
        "    \n",
        "\n",
        "        embeddings.append(n2v)\n",
        "        embeddings_val.append(n2v)\n",
        "        embeddings.append(walkets)\n",
        "        embeddings_val.append(walkets)\n",
        "        embeddings.append(authors_citation_emb)\n",
        "        embeddings_val.append(authors_citation_emb)\n",
        "        # embeddings.append(authors_citation_walklets)\n",
        "        # embeddings_val.append(authors_citation_walklets)\n",
        "        \n",
        "        n_features = len(embeddings)\n",
        "        print(f'n_features = {n_features}')\n",
        "        train_node_pairs, val_node_pairs = load_info(validation = validation)\n",
        "        X_val = np.zeros((len(val_node_pairs), n_features))\n",
        "    else:\n",
        "        embeddings_test = [specter_emb, co_authors_emb, d2v]\n",
        "        \n",
        "        n2v_test = np.load('data/embedding_n2v_wn{:d}_wl{:d}_d{:d}_ws{:d}.npy'.format(n2v_parameters['walk_number'], n2v_parameters['walk_length'],\n",
        "                                                                n2v_parameters['dimensions'], n2v_parameters['window_size']))\n",
        "        n2v = np.load('data/embedding_n2v_train_test_wn{:d}_wl{:d}_d{:d}_ws{:d}.npy'.format(n2v_parameters['walk_number'], n2v_parameters['walk_length'],\n",
        "                                                                n2v_parameters['dimensions'], n2v_parameters['window_size']))\n",
        "        walkets_test = np.load('data/embedding_Walklets_wn{:d}_wl{:d}_d{:d}_ws{:d}.npy'.format(walkets_parameters['walk_number'], walkets_parameters['walk_length'],\n",
        "                                                                walkets_parameters['dimensions'], 4))\n",
        "        walkets = np.load('data/embedding_Walklets_train_test_wn{:d}_wl{:d}_d{:d}_ws{:d}.npy'.format(walkets_parameters['walk_number'], walkets_parameters['walk_length'],\n",
        "                                                                walkets_parameters['dimensions'], walkets_parameters['window_size']))\n",
        "        authors_citation_emb_test = np.load('data/mean_papers_features_from_embedding_n2v_unique_citation_graph_complete_wn10_wl15_d64_ws5.npy')\n",
        "        authors_citation_emb = np.load('data/mean_papers_features_from_embedding_n2v_unique_citation_graph_test_wn10_wl15_d64_ws5.npy')\n",
        "        \n",
        "        embeddings.append(n2v)\n",
        "        embeddings_test.append(n2v_test)\n",
        "        embeddings.append(walkets)\n",
        "        embeddings_test.append(walkets_test)\n",
        "        embeddings.append(authors_citation_emb)\n",
        "        embeddings_test.append(authors_citation_emb_test)\n",
        "        \n",
        "        n_features = len(embeddings)\n",
        "        print(f'n_features = {n_features}')\n",
        "        train_node_pairs, test_node_pairs = load_info(validation = validation)\n",
        "        X_test = np.zeros((len(test_node_pairs), n_features))           \n",
        "    X_train = np.zeros((len(train_node_pairs), n_features))\n",
        "\n",
        "\n",
        "\n",
        "    for i, train_edge in tqdm(enumerate(train_node_pairs)):\n",
        "        X_train  = fill_embeddings_matrix(i, X_train, train_edge, embeddings, distance)\n",
        "    if validation:\n",
        "        np.save('data/X_train_val_embeddings', X_train)\n",
        "        for i, val_edge in tqdm(enumerate(val_node_pairs)):\n",
        "            X_val = fill_embeddings_matrix(i, X_val, val_edge, embeddings_val, distance)\n",
        "        np.save('data/X_val_embeddings', X_val)\n",
        "    else:\n",
        "        np.save('data/X_train_embeddings', X_train)\n",
        "        for i, test_edge in tqdm(enumerate(test_node_pairs)):\n",
        "            X_test = fill_embeddings_matrix(i, X_test, test_edge,  embeddings_test, distance)\n",
        "        np.save('data/X_test_embeddings', X_test)\n",
        "\n",
        "\n",
        "def fill_embeddings_matrix(i, X, edge, embeddings, distance):\n",
        "    \"\"\"\n",
        "    Fills each line of the default feature matrix.\n",
        "    \"\"\"\n",
        "\n",
        "    for j, emb in enumerate(embeddings):\n",
        "        if j == 2:\n",
        "            try:\n",
        "                X[i,j] = emb.dv.similarity(edge[0], edge[1])\n",
        "            except:\n",
        "                X[i,j] = emb.docvecs.similarity(edge[0], edge[1])\n",
        "        else:\n",
        "            X[i,j] = 1 - distance(emb[edge[0]], emb[edge[1]])\n",
        "\n",
        "    return X"
      ]
    },
    {
      "cell_type": "markdown",
      "metadata": {},
      "source": [
        "### Edge embedding"
      ]
    },
    {
      "cell_type": "code",
      "execution_count": 9,
      "metadata": {},
      "outputs": [],
      "source": [
        "def create_edge_embeddings_matrix(validation = True):\n",
        "    \"\"\"Creates Graph edge embeddings feature matrix.\n",
        "\n",
        "    Args:\n",
        "        distance (scipy spatial distance): Function that takes two 1d arrays\n",
        "        and outputs a float. Recommended: cosine distance.\n",
        "        validation (bool, optional): If True, will return validation lists.\n",
        "        Else, will return test lists. Defaults to True.\n",
        "    \"\"\"\n",
        "\n",
        "    n2v_parameters = {'walk_number': 10, 'walk_length': 15, 'dimensions': 64, 'window_size': 5}\n",
        "    walkets_parameters = {'walk_number': 10, 'walk_length': 80, 'dimensions': 64, 'window_size': 5}\n",
        "    \n",
        "    specter_emb = np.load('data/embeddings_14_02.npy')\n",
        "    \n",
        "    co_authors_emb = np.load('data/sum_papers_features_from_embedding_n2v_unique_co_authors_wn10_wl15_d64_ws5.npy')\n",
        "        \n",
        "    embeddings = [specter_emb, co_authors_emb]\n",
        "    \n",
        "    if validation:\n",
        "        embeddings_val = [specter_emb, co_authors_emb]\n",
        "        \n",
        "        n2v = np.load('data/embedding_n2v_train_val_wn{:d}_wl{:d}_d{:d}_ws{:d}.npy'.format(n2v_parameters['walk_number'], n2v_parameters['walk_length'],\n",
        "                                                                n2v_parameters['dimensions'], n2v_parameters['window_size']))\n",
        "        \n",
        "        walkets = np.load('data/embedding_Walklets_train_val_wn{:d}_wl{:d}_d{:d}_ws{:d}.npy'.format(walkets_parameters['walk_number'], walkets_parameters['walk_length'],\n",
        "                                                                walkets_parameters['dimensions'], walkets_parameters['window_size']))\n",
        "        authors_citation_emb = np.load('data/mean_papers_features_from_embedding_n2v_unique_citation_graph_train_wn10_wl15_d64_ws5.npy')\n",
        "\n",
        "        embeddings.append(n2v)\n",
        "        embeddings_val.append(n2v)\n",
        "        embeddings.append(walkets)\n",
        "        embeddings_val.append(walkets)\n",
        "        embeddings.append(authors_citation_emb)\n",
        "        embeddings_val.append(authors_citation_emb)\n",
        "        n_features = np.sum([embeddings[i].shape[1] for i in range(len(embeddings))])\n",
        "        print(f'n_features = {n_features}')\n",
        "        train_node_pairs, val_node_pairs = load_info(validation = validation)\n",
        "        X_val = np.zeros((len(val_node_pairs), n_features))\n",
        "    else:\n",
        "        embeddings_test = [specter_emb, co_authors_emb]\n",
        "        \n",
        "        n2v_test = np.load('data/embedding_n2v_wn{:d}_wl{:d}_d{:d}_ws{:d}.npy'.format(n2v_parameters['walk_number'], n2v_parameters['walk_length'],\n",
        "                                                                n2v_parameters['dimensions'], n2v_parameters['window_size']))\n",
        "        n2v = np.load('data/embedding_n2v_train_test_wn{:d}_wl{:d}_d{:d}_ws{:d}.npy'.format(n2v_parameters['walk_number'], n2v_parameters['walk_length'],\n",
        "                                                                n2v_parameters['dimensions'], n2v_parameters['window_size']))\n",
        "        walkets_test = np.load('data/embedding_Walklets_wn{:d}_wl{:d}_d{:d}_ws{:d}.npy'.format(walkets_parameters['walk_number'], walkets_parameters['walk_length'],\n",
        "                                                                walkets_parameters['dimensions'], 4))\n",
        "        walkets = np.load('data/embedding_Walklets_train_test_wn{:d}_wl{:d}_d{:d}_ws{:d}.npy'.format(walkets_parameters['walk_number'], walkets_parameters['walk_length'],\n",
        "                                                                walkets_parameters['dimensions'], walkets_parameters['window_size']))\n",
        "        authors_citation_emb_test = np.load('data/mean_papers_features_from_embedding_n2v_citation_graph_complete_wn10_wl15_d64_ws5.npy')\n",
        "        authors_citation_emb = np.load('data/mean_papers_features_from_embedding_n2v_citation_graph_test_wn10_wl15_d64_ws5.npy')\n",
        "        \n",
        "        embeddings.append(n2v)\n",
        "        embeddings_test.append(n2v_test)\n",
        "        embeddings.append(walkets)\n",
        "        embeddings_test.append(walkets_test)\n",
        "        embeddings.append(authors_citation_emb)\n",
        "        embeddings_test.append(authors_citation_emb_test)\n",
        "        \n",
        "        n_features = np.sum([embeddings[i].shape[1] for i in range(len(embeddings))])\n",
        "        print(f'n_features = {n_features}')\n",
        "        train_node_pairs, test_node_pairs = load_info(validation = validation)\n",
        "        X_test = np.zeros((len(test_node_pairs), n_features))           \n",
        "    X_train = np.zeros((len(train_node_pairs), n_features))\n",
        "\n",
        "\n",
        "\n",
        "    for i, train_edge in tqdm(enumerate(train_node_pairs)):\n",
        "        X_train  = fill_edge_embeddings_matrix(i, X_train, train_edge, embeddings)\n",
        "    if validation:\n",
        "        np.save('data/X_train_val_edge_embeddings', X_train)\n",
        "        for i, val_edge in tqdm(enumerate(val_node_pairs)):\n",
        "            X_val = fill_edge_embeddings_matrix(i, X_val, val_edge, embeddings_val)\n",
        "        np.save('data/X_val_edge_embeddings', X_val)\n",
        "    else:\n",
        "        np.save('data/X_train_edge_embeddings', X_train)\n",
        "        for i, test_edge in tqdm(enumerate(test_node_pairs)):\n",
        "            X_test = fill_edge_embeddings_matrix(i, X_test, test_edge,  embeddings_test)\n",
        "        np.save('data/X_test_edge_embeddings', X_test)\n",
        "\n",
        "def operator_hadamard(u, v):\n",
        "    return u * v\n",
        "\n",
        "def fill_edge_embeddings_matrix(i, X, edge, embeddings):\n",
        "    \"\"\"\n",
        "    Fills each line of the default feature matrix.\n",
        "    \"\"\"\n",
        "    size = 0\n",
        "    for j, emb in enumerate(embeddings):\n",
        "        X[i, size : size + emb.shape[1]] = operator_hadamard(emb[edge[0]], emb[edge[1]])\n",
        "        size += emb.shape[1]\n",
        "\n",
        "    return X"
      ]
    },
    {
      "cell_type": "markdown",
      "metadata": {},
      "source": [
        "### Other features"
      ]
    },
    {
      "cell_type": "code",
      "execution_count": 10,
      "metadata": {},
      "outputs": [],
      "source": [
        "def create_new_feature_matrix(G_train, G_test, measures, authors = False, validation = True):\n",
        "    \"\"\"Creates Graph parameters feature matrix. \n",
        "\n",
        "    Args:\n",
        "        G_train (NetworkX Graph): Training Graph loaded with NetworkX library.\n",
        "        G_test (NetworkX Graph): Test/validation Graph loaded with NetworkX library.\n",
        "        measures (function): function that takes a graph and two nodes as input and returns a scalar.\n",
        "        authors (bool, optional): If true, files are saved with authors extension. Author graphs should be used when True.\n",
        "                                  Defaults to False.\n",
        "        validation (bool, optional): If True, will return validation lists.\n",
        "        Else, will return test lists. Defaults to True.\n",
        "    \"\"\"\n",
        "    n_features = len(measures)\n",
        "    \n",
        "    if validation:\n",
        "        train_node_pairs, val_node_pairs = load_info(validation = validation)\n",
        "        X_val = np.zeros((len(val_node_pairs), n_features))\n",
        "    else:\n",
        "        train_node_pairs, test_node_pairs = load_info(validation = validation)\n",
        "        X_test = np.zeros((len(test_node_pairs), n_features))           \n",
        "    X_train = np.zeros((len(train_node_pairs), n_features))\n",
        "        \n",
        "    for i, train_edge in tqdm(enumerate(train_node_pairs)):\n",
        "        X_train = fill_new_feature_matrix(i, G_train, X_train, train_edge, measures)\n",
        "    \n",
        "    if validation:\n",
        "        if not authors:\n",
        "            np.save('data/X_train_val_new_features', X_train)\n",
        "        else:\n",
        "            np.save('data/X_train_val_new_features_authors', X_train)\n",
        "        for i, val_edge in tqdm(enumerate(val_node_pairs)):\n",
        "            X_val = fill_new_feature_matrix(i, G_test, X_val, val_edge, measures)\n",
        "        if not authors:\n",
        "            np.save('data/X_val_new_features', X_val)\n",
        "        else:\n",
        "            np.save('data/X_val_new_features_authors', X_val)\n",
        "\n",
        "    else:\n",
        "        if not authors:\n",
        "            np.save('data/X_train_new_features', X_train)\n",
        "        else:\n",
        "            np.save('data/X_train_new_features_authors', X_train)\n",
        "        for i, test_edge in tqdm(enumerate(test_node_pairs)):\n",
        "            X_test = fill_new_feature_matrix(i, G_test, X_test, test_edge, measures)\n",
        "        if not authors:\n",
        "            np.save('data/X_test_new_features', X_test)\n",
        "        else:\n",
        "            np.save('data/X_test_new_features_authors', X_test)\n",
        "        \n",
        "        \n",
        "def fill_new_feature_matrix(i, G, X, edge, measures):\n",
        "    \"\"\"\n",
        "    Fills each line of the default feature matrix.\n",
        "    \"\"\"\n",
        "    for j, measure in enumerate(measures):\n",
        "        X[i,j] = measure(G, edge[0], edge[1])\n",
        "    \n",
        "    return X"
      ]
    },
    {
      "cell_type": "markdown",
      "metadata": {},
      "source": [
        "### Matrix concatenation & loading"
      ]
    },
    {
      "cell_type": "code",
      "execution_count": 11,
      "metadata": {},
      "outputs": [],
      "source": [
        "def concatenate_matrix(default = True, param = True, authors_param = False, embeddings = True, edge_embeddings = False, \n",
        "                       new_feature = True, authors_new_feature = False, validation = True):\n",
        "    \"\"\"\n",
        "    Function to concatenate all features matrix. If values are True, then the matrix will be used to create the final dataset.\n",
        "    \"\"\"\n",
        "    \n",
        "    bool_list = [default, param, authors_param, embeddings, edge_embeddings, new_feature, authors_new_feature]\n",
        "    \n",
        "    if validation:\n",
        "        y_train = np.load('data/y_train_val.npy')\n",
        "        X_train_default = np.load('data/X_train_val_default.npy')\n",
        "        X_train_param = np.load('data/X_train_val_param.npy')\n",
        "        X_train_param_authors = np.load('data/X_train_val_param_authors.npy')\n",
        "        X_train_embeddings = np.load('data/X_train_val_embeddings.npy')\n",
        "        if edge_embeddings:\n",
        "            X_train_edge_embeddings = np.load('data/X_train_val_edge_embeddings.npy')\n",
        "        else:\n",
        "            X_train_edge_embeddings = None\n",
        "        X_train_new_feature = np.load('data/X_train_val_new_features.npy')\n",
        "        if authors_new_feature:\n",
        "            X_train_new_feature_authors = np.load('data/X_train_val_new_features_authors.npy')\n",
        "        else:\n",
        "            X_train_new_feature_authors = None\n",
        "        X_train_list = [X for i,X in enumerate([X_train_default, X_train_param, X_train_param_authors, X_train_embeddings, \n",
        "                                                X_train_edge_embeddings, X_train_new_feature, X_train_new_feature_authors]) if bool_list[i]]\n",
        "        X_train = np.concatenate(X_train_list, axis=1)\n",
        "        np.save('data/X_train_val', X_train)\n",
        "    \n",
        "        X_val_default = np.load('data/X_val_default.npy')\n",
        "        X_val_param = np.load('data/X_val_param.npy')\n",
        "        X_val_param_authors = np.load('data/X_val_param_authors.npy')\n",
        "        X_val_embeddings = np.load('data/X_val_embeddings.npy')\n",
        "        if edge_embeddings:\n",
        "            X_val_edge_embeddings = np.load('data/X_val_edge_embeddings.npy')\n",
        "        else:\n",
        "            X_val_edge_embeddings = None\n",
        "        X_val_new_feature = np.load('data/X_val_new_features.npy')\n",
        "        if authors_new_feature:\n",
        "            X_val_new_feature_authors = np.load('data/X_val_new_features_authors.npy')\n",
        "        else:\n",
        "            X_val_new_feature_authors = None\n",
        "        X_val_list = [X for i,X in enumerate([X_val_default, X_val_param, X_val_param_authors, X_val_embeddings, \n",
        "                                              X_val_edge_embeddings, X_val_new_feature, X_val_new_feature_authors]) if bool_list[i]]\n",
        "        X_val = np.concatenate(X_val_list, axis=1)\n",
        "        np.save('data/X_val', X_val)\n",
        "        y_val = np.load('data/y_val.npy')\n",
        "        return X_train, X_val, y_train, y_val\n",
        "    else:\n",
        "        y_train = np.load('data/y_train.npy')\n",
        "        X_train_default = np.load('data/X_train_default.npy')\n",
        "        X_train_param = np.load('data/X_train_param.npy')\n",
        "        if authors_param:\n",
        "            X_train_param_authors = np.load('data/X_train_param_authors.npy')\n",
        "        else:\n",
        "            X_train_param_authors = None\n",
        "        X_train_embeddings = np.load('data/X_train_embeddings.npy')\n",
        "        if edge_embeddings:\n",
        "            X_train_edge_embeddings = np.load('data/X_train_edge_embeddings.npy')\n",
        "        else:\n",
        "            X_train_edge_embeddings = None\n",
        "        X_train_new_feature = np.load('data/X_train_new_features.npy')\n",
        "        if authors_new_feature:\n",
        "            X_train_new_feature_authors = np.load('data/X_train_new_features_authors.npy')\n",
        "        else:\n",
        "            X_train_new_feature_authors = None\n",
        "        X_train_list = [X for i,X in enumerate([X_train_default, X_train_param, X_train_param_authors, X_train_embeddings, \n",
        "                                                X_train_edge_embeddings, X_train_new_feature, X_train_new_feature_authors]) if bool_list[i]]\n",
        "        X_train = np.concatenate(X_train_list, axis=1)\n",
        "        np.save('data/X_train', X_train)\n",
        "        \n",
        "        X_test_default = np.load('data/X_test_default.npy')\n",
        "        X_test_param = np.load('data/X_test_param.npy')\n",
        "        if authors_param:\n",
        "            X_test_param_authors = np.load('data/X_test_param_authors.npy')\n",
        "        else:\n",
        "            X_test_param_authors = None\n",
        "        X_test_embeddings = np.load('data/X_test_embeddings.npy')\n",
        "        if edge_embeddings:\n",
        "            X_test_edge_embeddings = np.load('data/X_test_edge_embeddings.npy')\n",
        "        else:\n",
        "            X_test_edge_embeddings = None\n",
        "        X_test_new_feature = np.load('data/X_test_new_features.npy')\n",
        "        if authors_new_feature:\n",
        "            X_test_new_feature_authors = np.load('data/X_test_new_features_authors.npy')\n",
        "        else:\n",
        "            X_test_new_feature_authors = None\n",
        "        X_test_list = [X for i,X in enumerate([X_test_default, X_test_param, X_test_param_authors, X_test_embeddings, \n",
        "                                               X_test_edge_embeddings, X_test_new_feature, X_test_new_feature_authors]) if bool_list[i]]\n",
        "        X_test = np.concatenate(X_test_list, axis=1)\n",
        "        np.save('data/X_test', X_test)\n",
        "        return X_train, X_test, y_train\n",
        "\n",
        "def load_matrix(validation = True):\n",
        "    if validation:\n",
        "        y_train = np.load('data/y_train_val.npy')\n",
        "        X_train = np.load('data/X_train_val.npy')\n",
        "        X_val = np.load('data/X_val.npy')\n",
        "        y_val = np.load('data/y_val.npy')\n",
        "        return X_train.astype(np.float64), X_val.astype(np.float64), y_train.astype(np.float64), y_val.astype(np.float64)\n",
        "    else:\n",
        "        y_train = np.load('data/y_train.npy')\n",
        "        X_train = np.load('data/X_train.npy')\n",
        "        X_test = np.load('data/X_test.npy')\n",
        "        return X_train.astype(np.float64), X_test.astype(np.float64), y_train.astype(np.float64)"
      ]
    },
    {
      "cell_type": "markdown",
      "metadata": {},
      "source": [
        "### Functions to add new features"
      ]
    },
    {
      "cell_type": "code",
      "execution_count": 12,
      "metadata": {},
      "outputs": [],
      "source": [
        "def add_new_feature(G_train, G_test, measure, validation = True):\n",
        "    \"\"\"Computes a feature using the measure function and returns the fearture concatenated \n",
        "    to the feature matrix.\n",
        "\n",
        "    Args:\n",
        "        G_train (graph): Training graph\n",
        "        G_test (graph): Test/validation graph\n",
        "        measure (function): function that takes as input a graph and two nodes\n",
        "        validation (bool, optional): If True, computes values for train/validation sets. Defaults to True.\n",
        "\n",
        "    Returns:\n",
        "        np.ndarrays: X_train, X_val, y_train, y_val or X_train, X_test, y_train\n",
        "    \"\"\"\n",
        "    n_features = 1\n",
        "    \n",
        "    if validation:\n",
        "        train_node_pairs, val_node_pairs = load_info(validation = validation)\n",
        "        X_val = np.zeros((len(val_node_pairs), n_features))\n",
        "    else:\n",
        "        train_node_pairs, test_node_pairs = load_info(validation = validation)\n",
        "        X_test = np.zeros((len(test_node_pairs), n_features))           \n",
        "    X_train = np.zeros((len(train_node_pairs), n_features))\n",
        "        \n",
        "    for i, train_edge in tqdm(enumerate(train_node_pairs)):\n",
        "        X_train = fill_new_feature(i, G_train, X_train, train_edge, measure)\n",
        "    \n",
        "    if validation:\n",
        "        for i, val_edge in tqdm(enumerate(val_node_pairs)):\n",
        "            X_val = fill_new_feature(i, G_test, X_val, val_edge, measure)\n",
        "        X_val_full = np.load('data/X_val.npy')\n",
        "        X_train_full = np.load('data/X_train_val.npy')\n",
        "        return np.concatenate((X_train_full, X_train), axis=1), np.concatenate((X_val_full, X_val), axis=1), y_train, y_val\n",
        "\n",
        "    else:\n",
        "        for i, test_edge in tqdm(enumerate(test_node_pairs)):\n",
        "            X_test = fill_new_feature(i, G_test, X_test, test_edge, measure)\n",
        "        X_test_full = np.load('data/X_test.npy')\n",
        "        X_train_full = np.load('data/X_train.npy')\n",
        "        return np.concatenate((X_train_full, X_train), axis=1), np.concatenate((X_test_full, X_test), axis=1), y_train\n",
        "        \n",
        "        \n",
        "def fill_new_feature(i, G, X, edge, measure):\n",
        "    X[i,0] = measure(G, edge[0], edge[1])\n",
        "    \n",
        "    return X\n",
        "    "
      ]
    },
    {
      "cell_type": "markdown",
      "metadata": {},
      "source": [
        "## Measures for new features"
      ]
    },
    {
      "cell_type": "code",
      "execution_count": 13,
      "metadata": {},
      "outputs": [],
      "source": [
        "def shortest_path_length(G, n1, n2):\n",
        "    \"\"\"\n",
        "    Shortest path length between two nodes.\n",
        "    \"\"\"\n",
        "    try:\n",
        "        length = nx.shortest_path_length(G, n1, n2)\n",
        "    except:\n",
        "        length = -1\n",
        "    return length\n",
        "\n",
        "def adamic_adar_index(G, n1, n2):\n",
        "    \"\"\"\n",
        "    Adamic adar index of two nodes.\n",
        "    \"\"\"\n",
        "    _, _, coeff = list(nx.adamic_adar_index(G, [(n1, n2)]))[0]\n",
        "    return coeff\n",
        "\n",
        "\n",
        "def pref_attachment(G, n1, n2):\n",
        "    \"\"\" \n",
        "    Preferential attachment of two nodes.\n",
        "    \"\"\"\n",
        "    _, _, coeff = list(nx.preferential_attachment(G, [(n1, n2)]))[0]\n",
        "    return coeff\n",
        "\n",
        "def common_neighbor_centrality(G, n1, n2):\n",
        "    \"\"\" \n",
        "    Common neighbor centrality of two nodes.\n",
        "    \"\"\"\n",
        "    _, _, coeff = nx.common_neighbor_centrality(G, [(n1, n2)])\n",
        "    return coeff\n",
        "\n",
        "def salton_index(G, n1, n2):\n",
        "    \"\"\" \n",
        "    Salton index of two nodes.\n",
        "    \"\"\"\n",
        "    sqrt_prod_deg = np.sqrt(G.degree(n1) * G.degree(n2))\n",
        "    if sqrt_prod_deg == 0:\n",
        "        return 0\n",
        "    else:\n",
        "        return len(list(nx.common_neighbors(G, n1, n2)))/sqrt_prod_deg\n",
        "\n",
        "def jaccard_coefficient(G, n1, n2):\n",
        "    \"\"\"\n",
        "    Jaccard coefficient of two nodes.\n",
        "    \"\"\"\n",
        "    _, _, coeff = list(nx.jaccard_coefficient(G, [(n1, n2)]))[0]\n",
        "    return coeff\n",
        "\n",
        "def sorensen_index(G, n1, n2):\n",
        "    \"\"\"\n",
        "    CSorensen index of two nodes.\n",
        "    \"\"\"\n",
        "    sum_deg = G.degree(n1) * G.degree(n2)\n",
        "    if sum_deg == 0:\n",
        "        return 0\n",
        "    else:\n",
        "        return len(list(nx.common_neighbors(G, n1, n2)))/(sum_deg)\n",
        "    \n",
        "def common_neighbors(G, n1, n2):\n",
        "    \"\"\"\n",
        "    Common neighbors between two nodes.\n",
        "    \"\"\"\n",
        "    return len(list(nx.common_neighbors(G, n1, n2)))\n",
        "\n",
        "def hub_promoted_index(G, n1, n2):\n",
        "    \"\"\"\n",
        "    Hub promoted index between two nodes.\n",
        "    \"\"\"\n",
        "    min_deg = min(G.degree(n1), G.degree(n2))\n",
        "    if min_deg == 0:\n",
        "        return 0\n",
        "    else:\n",
        "        return len(list(nx.common_neighbors(G, n1, n2)))/min_deg\n",
        "    \n",
        "def hub_depressed_index(G, n1, n2):\n",
        "    \"\"\"\n",
        "    Hub promoted index between two nodes.\n",
        "    \"\"\"\n",
        "    max_deg = max(G.degree(n1), G.degree(n2))\n",
        "    if max_deg == 0:\n",
        "        return 0\n",
        "    else:\n",
        "        return len(list(nx.common_neighbors(G, n1, n2)))/max_deg\n",
        "\n",
        "def resource_allocation_index(G, n1, n2):\n",
        "    \"\"\"\n",
        "    Ressource allocation index between two nodes.\n",
        "    \"\"\"\n",
        "    _, _, coeff = list(nx.resource_allocation_index(G, [(n1, n2)]))[0]\n",
        "    return coeff\n",
        "    "
      ]
    },
    {
      "cell_type": "markdown",
      "metadata": {},
      "source": [
        "# Validation matrix"
      ]
    },
    {
      "cell_type": "markdown",
      "metadata": {},
      "source": [
        "For validation, all parameters including embeddings should be computed using the validation graph. Results should be computed again on the full graph to submit a test result."
      ]
    },
    {
      "cell_type": "code",
      "execution_count": 20,
      "metadata": {},
      "outputs": [],
      "source": [
        "H_train = nx.read_edgelist('data/edgelist_train.txt', delimiter=',', create_using=nx.Graph(), nodetype=int)\n",
        "H_val = H_train"
      ]
    },
    {
      "cell_type": "code",
      "execution_count": 136,
      "metadata": {},
      "outputs": [],
      "source": [
        "H_authors_train = nx.read_weighted_edgelist('data/citation_graph_train.txt', delimiter=',', create_using=nx.Graph(), nodetype=int)\n",
        "H_authors_train.remove_edges_from(nx.selfloop_edges(H_authors_train))\n",
        "H_authors_val = H_authors_train "
      ]
    },
    {
      "cell_type": "markdown",
      "metadata": {},
      "source": [
        "## Matrix creation"
      ]
    },
    {
      "cell_type": "code",
      "execution_count": 77,
      "metadata": {},
      "outputs": [
        {
          "name": "stdout",
          "output_type": "stream",
          "text": [
            "Loading unique authors preprocessed\n",
            "Loading abstract preprocessed\n"
          ]
        },
        {
          "name": "stderr",
          "output_type": "stream",
          "text": [
            "279538it [00:39, 7054.18it/s]\n",
            "69885it [00:09, 7229.19it/s]\n"
          ]
        }
      ],
      "source": [
        "create_default_matrix(H_train, H_val, validation = True)"
      ]
    },
    {
      "cell_type": "code",
      "execution_count": null,
      "metadata": {},
      "outputs": [],
      "source": [
        "create_param_matrix(H_train, H_val, validation = True)"
      ]
    },
    {
      "cell_type": "code",
      "execution_count": 137,
      "metadata": {},
      "outputs": [
        {
          "name": "stderr",
          "output_type": "stream",
          "text": [
            "279538it [00:04, 63388.91it/s]\n",
            "69885it [00:01, 61282.52it/s]\n"
          ]
        }
      ],
      "source": [
        "# create_param_matrix(H_authors_train, H_authors_val, authors = True, validation = True)"
      ]
    },
    {
      "cell_type": "code",
      "execution_count": 22,
      "metadata": {},
      "outputs": [
        {
          "ename": "ValueError",
          "evalue": "cannot reshape array of size 67518132 into shape (138499,768)",
          "output_type": "error",
          "traceback": [
            "\u001b[0;31m---------------------------------------------------------------------------\u001b[0m",
            "\u001b[0;31mValueError\u001b[0m                                Traceback (most recent call last)",
            "\u001b[0;32m/tmp/ipykernel_5073/554272166.py\u001b[0m in \u001b[0;36m<module>\u001b[0;34m\u001b[0m\n\u001b[1;32m      3\u001b[0m \u001b[0;31m# BEST: cosine\u001b[0m\u001b[0;34m\u001b[0m\u001b[0;34m\u001b[0m\u001b[0m\n\u001b[1;32m      4\u001b[0m \u001b[0mdistance\u001b[0m \u001b[0;34m=\u001b[0m \u001b[0mspatial\u001b[0m\u001b[0;34m.\u001b[0m\u001b[0mdistance\u001b[0m\u001b[0;34m.\u001b[0m\u001b[0mcosine\u001b[0m \u001b[0;31m#\u001b[0m\u001b[0;34m\u001b[0m\u001b[0;34m\u001b[0m\u001b[0m\n\u001b[0;32m----> 5\u001b[0;31m \u001b[0mcreate_embeddings_matrix\u001b[0m\u001b[0;34m(\u001b[0m\u001b[0mdistance\u001b[0m \u001b[0;34m=\u001b[0m \u001b[0mdistance\u001b[0m\u001b[0;34m,\u001b[0m \u001b[0mvalidation\u001b[0m \u001b[0;34m=\u001b[0m \u001b[0;32mTrue\u001b[0m\u001b[0;34m)\u001b[0m\u001b[0;34m\u001b[0m\u001b[0;34m\u001b[0m\u001b[0m\n\u001b[0m",
            "\u001b[0;32m/tmp/ipykernel_5073/2586743301.py\u001b[0m in \u001b[0;36mcreate_embeddings_matrix\u001b[0;34m(distance, validation)\u001b[0m\n\u001b[1;32m     18\u001b[0m     \u001b[0;31m# specter_emb = np.load('data/embeddings_19_02.npy')\u001b[0m\u001b[0;34m\u001b[0m\u001b[0;34m\u001b[0m\u001b[0m\n\u001b[1;32m     19\u001b[0m     \u001b[0;32mwith\u001b[0m \u001b[0mopen\u001b[0m\u001b[0;34m(\u001b[0m\u001b[0;34mf'data/embeddings_19_02_best_2.npy'\u001b[0m\u001b[0;34m,\u001b[0m \u001b[0;34m'rb'\u001b[0m\u001b[0;34m)\u001b[0m \u001b[0;32mas\u001b[0m \u001b[0mf\u001b[0m\u001b[0;34m:\u001b[0m\u001b[0;34m\u001b[0m\u001b[0;34m\u001b[0m\u001b[0m\n\u001b[0;32m---> 20\u001b[0;31m         \u001b[0mspecter_emb\u001b[0m \u001b[0;34m=\u001b[0m \u001b[0mnp\u001b[0m\u001b[0;34m.\u001b[0m\u001b[0mload\u001b[0m\u001b[0;34m(\u001b[0m\u001b[0mf\u001b[0m\u001b[0;34m)\u001b[0m\u001b[0;34m\u001b[0m\u001b[0;34m\u001b[0m\u001b[0m\n\u001b[0m\u001b[1;32m     21\u001b[0m \u001b[0;34m\u001b[0m\u001b[0m\n\u001b[1;32m     22\u001b[0m     \u001b[0mco_authors_emb\u001b[0m \u001b[0;34m=\u001b[0m \u001b[0mnp\u001b[0m\u001b[0;34m.\u001b[0m\u001b[0mload\u001b[0m\u001b[0;34m(\u001b[0m\u001b[0;34m'data/sum_papers_features_from_embedding_n2v_unique_co_authors_wn10_wl15_d64_ws5.npy'\u001b[0m\u001b[0;34m)\u001b[0m\u001b[0;34m\u001b[0m\u001b[0;34m\u001b[0m\u001b[0m\n",
            "\u001b[0;32m~/anaconda3/lib/python3.9/site-packages/numpy/lib/npyio.py\u001b[0m in \u001b[0;36mload\u001b[0;34m(file, mmap_mode, allow_pickle, fix_imports, encoding)\u001b[0m\n\u001b[1;32m    438\u001b[0m                 \u001b[0;32mreturn\u001b[0m \u001b[0mformat\u001b[0m\u001b[0;34m.\u001b[0m\u001b[0mopen_memmap\u001b[0m\u001b[0;34m(\u001b[0m\u001b[0mfile\u001b[0m\u001b[0;34m,\u001b[0m \u001b[0mmode\u001b[0m\u001b[0;34m=\u001b[0m\u001b[0mmmap_mode\u001b[0m\u001b[0;34m)\u001b[0m\u001b[0;34m\u001b[0m\u001b[0;34m\u001b[0m\u001b[0m\n\u001b[1;32m    439\u001b[0m             \u001b[0;32melse\u001b[0m\u001b[0;34m:\u001b[0m\u001b[0;34m\u001b[0m\u001b[0;34m\u001b[0m\u001b[0m\n\u001b[0;32m--> 440\u001b[0;31m                 return format.read_array(fid, allow_pickle=allow_pickle,\n\u001b[0m\u001b[1;32m    441\u001b[0m                                          pickle_kwargs=pickle_kwargs)\n\u001b[1;32m    442\u001b[0m         \u001b[0;32melse\u001b[0m\u001b[0;34m:\u001b[0m\u001b[0;34m\u001b[0m\u001b[0;34m\u001b[0m\u001b[0m\n",
            "\u001b[0;32m~/anaconda3/lib/python3.9/site-packages/numpy/lib/format.py\u001b[0m in \u001b[0;36mread_array\u001b[0;34m(fp, allow_pickle, pickle_kwargs)\u001b[0m\n\u001b[1;32m    781\u001b[0m             \u001b[0marray\u001b[0m \u001b[0;34m=\u001b[0m \u001b[0marray\u001b[0m\u001b[0;34m.\u001b[0m\u001b[0mtranspose\u001b[0m\u001b[0;34m(\u001b[0m\u001b[0;34m)\u001b[0m\u001b[0;34m\u001b[0m\u001b[0;34m\u001b[0m\u001b[0m\n\u001b[1;32m    782\u001b[0m         \u001b[0;32melse\u001b[0m\u001b[0;34m:\u001b[0m\u001b[0;34m\u001b[0m\u001b[0;34m\u001b[0m\u001b[0m\n\u001b[0;32m--> 783\u001b[0;31m             \u001b[0marray\u001b[0m\u001b[0;34m.\u001b[0m\u001b[0mshape\u001b[0m \u001b[0;34m=\u001b[0m \u001b[0mshape\u001b[0m\u001b[0;34m\u001b[0m\u001b[0;34m\u001b[0m\u001b[0m\n\u001b[0m\u001b[1;32m    784\u001b[0m \u001b[0;34m\u001b[0m\u001b[0m\n\u001b[1;32m    785\u001b[0m     \u001b[0;32mreturn\u001b[0m \u001b[0marray\u001b[0m\u001b[0;34m\u001b[0m\u001b[0;34m\u001b[0m\u001b[0m\n",
            "\u001b[0;31mValueError\u001b[0m: cannot reshape array of size 67518132 into shape (138499,768)"
          ]
        }
      ],
      "source": [
        "# BAD: chebyshev, braycurtis, canberra, euclidian, jaccard\n",
        "# TO TEST: cityblock, correlation, jensenshannon, mahalanobis, minkowski, seuclidean, sqeuclidean, wminkowski, dice, hamming\n",
        "# BEST: cosine\n",
        "distance = spatial.distance.cosine #\n",
        "create_embeddings_matrix(distance = distance, validation = True)"
      ]
    },
    {
      "cell_type": "code",
      "execution_count": 15,
      "metadata": {},
      "outputs": [
        {
          "name": "stdout",
          "output_type": "stream",
          "text": [
            "n_features = 1280\n"
          ]
        },
        {
          "name": "stderr",
          "output_type": "stream",
          "text": [
            "279538it [00:04, 66899.99it/s]\n",
            "69885it [00:01, 61241.14it/s]\n"
          ]
        }
      ],
      "source": [
        "# create_edge_embeddings_matrix(validation = True)"
      ]
    },
    {
      "cell_type": "code",
      "execution_count": null,
      "metadata": {},
      "outputs": [],
      "source": [
        "measures = [salton_index, adamic_adar_index, jaccard_coefficient, pref_attachment, shortest_path_length, hub_depressed_index, resource_allocation_index]#, ressouce_allocation_index]\n",
        "create_new_feature_matrix(H_train, H_val, measures = measures, validation = True)"
      ]
    },
    {
      "cell_type": "code",
      "execution_count": 147,
      "metadata": {},
      "outputs": [
        {
          "name": "stderr",
          "output_type": "stream",
          "text": [
            "279538it [02:15, 2055.81it/s]\n",
            "69885it [00:34, 2026.51it/s]\n"
          ]
        }
      ],
      "source": [
        "# measures = [salton_index, adamic_adar_index, jaccard_coefficient, pref_attachment, shortest_path_length, hub_depressed_index, resource_allocation_index]#, ressouce_allocation_index]\n",
        "# create_new_feature_matrix(H_authors_train, H_authors_val, measures = measures, authors = True, validation = True)"
      ]
    },
    {
      "cell_type": "code",
      "execution_count": 40,
      "metadata": {},
      "outputs": [],
      "source": [
        "X_train, X_val, y_train, y_val = concatenate_matrix(default = True, param = True, authors_param = False, embeddings = True, \n",
        "                                                    edge_embeddings = False, new_feature = True, authors_new_feature = False,\n",
        "                                                    validation = True)"
      ]
    },
    {
      "cell_type": "code",
      "execution_count": 104,
      "metadata": {},
      "outputs": [
        {
          "name": "stderr",
          "output_type": "stream",
          "text": [
            "279538it [00:19, 14512.31it/s]\n",
            "69885it [00:04, 14055.95it/s]\n"
          ]
        }
      ],
      "source": [
        "# X_train, X_val, y_train, y_val = add_new_feature(H_train, H_val, measure=resource_allocation_index, validation = True)"
      ]
    },
    {
      "cell_type": "code",
      "execution_count": null,
      "metadata": {},
      "outputs": [],
      "source": [
        "df_train = pd.DataFrame(data = X_train)\n",
        "df_train.head(-40)"
      ]
    },
    {
      "cell_type": "markdown",
      "metadata": {},
      "source": [
        "## Loading and training"
      ]
    },
    {
      "cell_type": "markdown",
      "metadata": {},
      "source": [
        "Hyperparameters are obtained through Bayesian optimization over a parameter grid using python library `HyperOpt`"
      ]
    },
    {
      "cell_type": "markdown",
      "metadata": {},
      "source": [
        "#### Logistic Regression"
      ]
    },
    {
      "cell_type": "code",
      "execution_count": 16,
      "metadata": {},
      "outputs": [
        {
          "name": "stdout",
          "output_type": "stream",
          "text": [
            "Validation loss = 0.0991\n"
          ]
        }
      ],
      "source": [
        "X_train, X_val, y_train, y_val = load_matrix(validation = True)\n",
        "y_pred_lr, model_lr = train(X_train, X_val, y_train, y_val, normalize = True, model = LogisticRegression(max_iter = 500))"
      ]
    },
    {
      "cell_type": "markdown",
      "metadata": {},
      "source": [
        "#### Random Forest"
      ]
    },
    {
      "cell_type": "code",
      "execution_count": 22,
      "metadata": {},
      "outputs": [
        {
          "name": "stdout",
          "output_type": "stream",
          "text": [
            "Validation loss = 0.0973\n"
          ]
        }
      ],
      "source": [
        "X_train, X_val, y_train, y_val = load_matrix(validation = True)\n",
        "rf_best_params = {'criterion': 'gini', 'max_depth': 180, 'max_features': 'log2', 'min_samples_leaf': 3, 'min_samples_split': 0.0002042418947923803, 'n_estimators': 631}\n",
        "y_pred_rf, model_rf = train(X_train, X_val, y_train, y_val, normalize = False, model = RandomForestClassifier(**rf_best_params, n_jobs=6, random_state=42))\n"
      ]
    },
    {
      "cell_type": "markdown",
      "metadata": {},
      "source": [
        "#### CatBoost"
      ]
    },
    {
      "cell_type": "code",
      "execution_count": 24,
      "metadata": {},
      "outputs": [
        {
          "name": "stdout",
          "output_type": "stream",
          "text": [
            "Validation loss = 0.0843\n"
          ]
        }
      ],
      "source": [
        "from catboost import CatBoostClassifier\n",
        "\n",
        "X_train, X_val, y_train, y_val = load_matrix(validation = True)\n",
        "catboost_best_params = {'border_count': 125.0398324059968, 'depth': 4.0, 'l2_leaf_reg': 7.091575748470791, 'learning_rate': 0.02196998307042895}\n",
        "y_pred_cb, model_cb = train(X_train, X_val, y_train, y_val, normalize = False, model = CatBoostClassifier(iterations=10000,\n",
        "                                                                                                        learning_rate=catboost_best_params['learning_rate'],\n",
        "                                                                                                        depth=int(catboost_best_params['depth']),\n",
        "                                                                                                        loss_function='Logloss',\n",
        "                                                                                                        task_type=\"GPU\",\n",
        "                                                                                                        eval_metric='Logloss',\n",
        "                                                                                                        l2_leaf_reg=catboost_best_params['l2_leaf_reg'],\n",
        "                                                                                                        early_stopping_rounds=3000,\n",
        "                                                                                                        od_type=\"Iter\",\n",
        "                                                                                                        border_count=int(catboost_best_params['border_count']),\n",
        "                                                                                                        verbose=False\n",
        "                                                                                                        ))\n"
      ]
    },
    {
      "cell_type": "markdown",
      "metadata": {},
      "source": [
        "#### XGBoost"
      ]
    },
    {
      "cell_type": "code",
      "execution_count": 25,
      "metadata": {},
      "outputs": [
        {
          "name": "stdout",
          "output_type": "stream",
          "text": [
            "[17:06:52] WARNING: ../src/learner.cc:1115: Starting in XGBoost 1.3.0, the default evaluation metric used with the objective 'binary:logistic' was changed from 'error' to 'logloss'. Explicitly set eval_metric if you'd like to restore the old behavior.\n",
            "Validation loss = 0.0849\n"
          ]
        }
      ],
      "source": [
        "from xgboost import XGBClassifier\n",
        "from lightgbm import LGBMClassifier\n",
        "\n",
        "X_train, X_val, y_train, y_val = load_matrix(validation = True)\n",
        "xgb_best_params = {'colsample_bytree': 0.5, 'learning_rate': 0.05, 'max_depth': 6, 'min_child_weight': 5, 'subsample': 0.9903964909697581, 'n_estimators': 400}\n",
        "y_pred_xgb, model_xgb = train(X_train, X_val, y_train, y_val, normalize = False, model = XGBClassifier(**xgb_best_params, tree_method='gpu_hist', gpu_id=0, use_label_encoder=False))"
      ]
    },
    {
      "cell_type": "markdown",
      "metadata": {},
      "source": [
        "#### LightGBM"
      ]
    },
    {
      "cell_type": "code",
      "execution_count": 26,
      "metadata": {},
      "outputs": [
        {
          "name": "stdout",
          "output_type": "stream",
          "text": [
            "Validation loss = 0.0848\n"
          ]
        }
      ],
      "source": [
        "X_train, X_val, y_train, y_val = load_matrix(validation = True)\n",
        "\n",
        "lgbm_best_params = {'colsample_bytree': 0.4289902005468654, 'max_depth': 7, 'min_child_weight': 7,  'n_estimators': 500, 'learning_rate':0.1,\n",
        "  'min_split_gain': 0.8237097093914703, 'num_leaves': 78, 'reg_alpha': 0.4619815836877414, 'reg_lambda': 0.3702649278033648, 'subsample': 0.838062378418677}\n",
        "y_pred_lgbm, model_lgbm = train(X_train, X_val, y_train, y_val, normalize = False, model = LGBMClassifier(**lgbm_best_params, n_jobs=2))"
      ]
    },
    {
      "cell_type": "markdown",
      "metadata": {},
      "source": [
        "#### Average Stacking"
      ]
    },
    {
      "cell_type": "code",
      "execution_count": 29,
      "metadata": {},
      "outputs": [
        {
          "data": {
            "text/plain": [
              "0.08398145899927084"
            ]
          },
          "execution_count": 29,
          "metadata": {},
          "output_type": "execute_result"
        }
      ],
      "source": [
        "y_average = np.mean([y_pred_lgbm, y_pred_cb], axis = 0)\n",
        "log_loss(y_val, y_average)"
      ]
    },
    {
      "cell_type": "markdown",
      "metadata": {},
      "source": [
        "### SHAP"
      ]
    },
    {
      "cell_type": "code",
      "execution_count": null,
      "metadata": {},
      "outputs": [],
      "source": [
        "# compute the SHAP values for the linear model\n",
        "explainer = shap.TreeExplainer(model_lgbm, X_train)\n"
      ]
    },
    {
      "cell_type": "code",
      "execution_count": null,
      "metadata": {},
      "outputs": [],
      "source": [
        "shap_values = shap.TreeExplainer(model_lgbm).shap_values(X_val)"
      ]
    },
    {
      "cell_type": "code",
      "execution_count": null,
      "metadata": {},
      "outputs": [
        {
          "data": {
            "image/png": "[encoded data removed]",
            "text/plain": [
              "<Figure size 576x1231.2 with 2 Axes>"
            ]
          },
          "metadata": {
            "needs_background": "light"
          },
          "output_type": "display_data"
        }
      ],
      "source": [
        "shap.summary_plot(shap_values, X_val, max_display=X_train.shape[1], names = )"
      ]
    },
    {
      "cell_type": "code",
      "execution_count": 46,
      "metadata": {},
      "outputs": [],
      "source": [
        "mask = [11, 10, 23, 22]\n",
        "X_train, X_val = np.delete(X_train, mask, axis=1), np.delete(X_val, mask, axis=1)\n",
        "# y_pred, model = train(X_train, X_val, y_train, y_val, normalize = True, model = LogisticRegression(max_iter = 1000))"
      ]
    },
    {
      "cell_type": "markdown",
      "metadata": {},
      "source": [
        "# Test matrix"
      ]
    },
    {
      "cell_type": "code",
      "execution_count": 74,
      "metadata": {},
      "outputs": [],
      "source": [
        "G_train = nx.read_edgelist('data/edgelist_test.txt', delimiter=',', create_using=nx.Graph(), nodetype=int)\n",
        "G_test = nx.read_edgelist('data/edgelist.txt', delimiter=',', create_using=nx.Graph(), nodetype=int)\n"
      ]
    },
    {
      "cell_type": "code",
      "execution_count": null,
      "metadata": {},
      "outputs": [],
      "source": [
        "G_authors_train = nx.read_weighted_edgelist('data/citation_graph_test.txt', delimiter=',', create_using=nx.Graph(), nodetype=int)\n",
        "G_authors_train.remove_edges_from(nx.selfloop_edges(G_authors_train))\n",
        "\n",
        "G_authors_test = nx.read_weighted_edgelist('data/citation_graph_complete.txt', delimiter=',', create_using=nx.Graph(), nodetype=int)\n",
        "G_authors_train.remove_edges_from(nx.selfloop_edges(G_authors_train))"
      ]
    },
    {
      "cell_type": "markdown",
      "metadata": {},
      "source": [
        "## Matrix creation/loading and submission"
      ]
    },
    {
      "cell_type": "code",
      "execution_count": 89,
      "metadata": {},
      "outputs": [
        {
          "name": "stdout",
          "output_type": "stream",
          "text": [
            "Loading unique authors preprocessed\n",
            "Loading abstract preprocessed\n"
          ]
        },
        {
          "name": "stderr",
          "output_type": "stream",
          "text": [
            "436781it [01:16, 5709.62it/s] \n",
            "106692it [00:22, 4726.16it/s]\n"
          ]
        }
      ],
      "source": [
        "create_default_matrix(G_train, G_test, validation = False)"
      ]
    },
    {
      "cell_type": "code",
      "execution_count": 40,
      "metadata": {},
      "outputs": [
        {
          "name": "stderr",
          "output_type": "stream",
          "text": [
            "436781it [00:10, 39714.21it/s]\n",
            "106692it [00:01, 82004.27it/s]\n"
          ]
        }
      ],
      "source": [
        "create_param_matrix(G_train, G_test, validation = False)"
      ]
    },
    {
      "cell_type": "code",
      "execution_count": null,
      "metadata": {},
      "outputs": [],
      "source": [
        "# create_param_matrix(G_authors_train, G_authors_test, authors = True, validation = False)"
      ]
    },
    {
      "cell_type": "code",
      "execution_count": 28,
      "metadata": {},
      "outputs": [
        {
          "name": "stdout",
          "output_type": "stream",
          "text": [
            "n_features = 6\n"
          ]
        },
        {
          "name": "stderr",
          "output_type": "stream",
          "text": [
            "436781it [01:44, 4188.06it/s]\n",
            "106692it [00:25, 4254.30it/s]\n"
          ]
        }
      ],
      "source": [
        "distance = spatial.distance.cosine #spatial.distance.cosine #euclidean_distance #\n",
        "create_embeddings_matrix(distance = distance, validation = False)"
      ]
    },
    {
      "cell_type": "code",
      "execution_count": 15,
      "metadata": {},
      "outputs": [
        {
          "name": "stdout",
          "output_type": "stream",
          "text": [
            "n_features = 1280\n"
          ]
        },
        {
          "name": "stderr",
          "output_type": "stream",
          "text": [
            "436781it [00:06, 64955.40it/s]\n",
            "106692it [00:01, 70277.18it/s]\n"
          ]
        }
      ],
      "source": [
        "create_edge_embeddings_matrix(validation = False)"
      ]
    },
    {
      "cell_type": "code",
      "execution_count": null,
      "metadata": {},
      "outputs": [],
      "source": [
        "measures = [salton_index, adamic_adar_index, jaccard_coefficient, pref_attachment, shortest_path_length, hub_depressed_index, resource_allocation_index]\n",
        "create_new_feature_matrix(G_train, G_test, measures = measures, validation = False)"
      ]
    },
    {
      "cell_type": "code",
      "execution_count": null,
      "metadata": {},
      "outputs": [],
      "source": [
        "# create_new_feature_matrix(G_authors_train, G_authors_test, autors = True, measures = measures, validation = False)"
      ]
    },
    {
      "cell_type": "code",
      "execution_count": 62,
      "metadata": {},
      "outputs": [],
      "source": [
        "X_train, X_test, y_train = concatenate_matrix(default = True, param = True, authors_param = False, embeddings = True, \n",
        "                                              edge_embeddings = False, new_feature = True, authors_new_feature = False,\n",
        "                                              validation = False)"
      ]
    },
    {
      "cell_type": "code",
      "execution_count": null,
      "metadata": {},
      "outputs": [],
      "source": [
        "df_train = pd.DataFrame(data = X_train)\n",
        "df_train.head(-40)"
      ]
    },
    {
      "cell_type": "markdown",
      "metadata": {},
      "source": [
        "## Prediction"
      ]
    },
    {
      "cell_type": "markdown",
      "metadata": {},
      "source": [
        "### Models"
      ]
    },
    {
      "cell_type": "markdown",
      "metadata": {},
      "source": [
        "#### LightGBM"
      ]
    },
    {
      "cell_type": "code",
      "execution_count": 30,
      "metadata": {},
      "outputs": [
        {
          "name": "stdout",
          "output_type": "stream",
          "text": [
            "Creating submission\n",
            "Submision created\n"
          ]
        }
      ],
      "source": [
        "X_train, X_test, y_train = load_matrix(validation = False)\n",
        "y_pred_lgbm, model_lgbm = train(X_train, X_test, y_train, None, normalize = False, model = LGBMClassifier(**lgbm_best_params, n_jobs=6))"
      ]
    },
    {
      "cell_type": "markdown",
      "metadata": {},
      "source": [
        "#### XGBoost"
      ]
    },
    {
      "cell_type": "code",
      "execution_count": 31,
      "metadata": {},
      "outputs": [
        {
          "name": "stdout",
          "output_type": "stream",
          "text": [
            "[17:15:28] WARNING: ../src/learner.cc:1115: Starting in XGBoost 1.3.0, the default evaluation metric used with the objective 'binary:logistic' was changed from 'error' to 'logloss'. Explicitly set eval_metric if you'd like to restore the old behavior.\n",
            "Creating submission\n",
            "Submision created\n"
          ]
        }
      ],
      "source": [
        "X_train, X_test, y_train = load_matrix(validation = False)\n",
        "y_pred_xgb, model_xgb = train(X_train, X_test, y_train, None, normalize = False, model = XGBClassifier(**xgb_best_params, tree_method='gpu_hist', gpu_id=0, use_label_encoder=False))\n"
      ]
    },
    {
      "cell_type": "markdown",
      "metadata": {},
      "source": [
        "#### CatBoost"
      ]
    },
    {
      "cell_type": "code",
      "execution_count": 32,
      "metadata": {},
      "outputs": [
        {
          "name": "stdout",
          "output_type": "stream",
          "text": [
            "Creating submission\n",
            "Submision created\n"
          ]
        }
      ],
      "source": [
        "X_train, X_test, y_train = load_matrix(validation = False)\n",
        "y_pred_cb, model_cb = train(X_train, X_test, y_train, None, normalize = False, model = CatBoostClassifier(iterations=10000,\n",
        "                                                                                                        learning_rate=catboost_best_params['learning_rate'],\n",
        "                                                                                                        depth=int(catboost_best_params['depth']),\n",
        "                                                                                                        loss_function='Logloss',\n",
        "                                                                                                        task_type=\"GPU\",\n",
        "                                                                                                        eval_metric='Logloss',\n",
        "                                                                                                        l2_leaf_reg=catboost_best_params['l2_leaf_reg'],\n",
        "                                                                                                        early_stopping_rounds=3000,\n",
        "                                                                                                        od_type=\"Iter\",\n",
        "                                                                                                        border_count=int(catboost_best_params['border_count']),\n",
        "                                                                                                        verbose=False\n",
        "                                                                                                        ))"
      ]
    },
    {
      "cell_type": "markdown",
      "metadata": {},
      "source": [
        "#### Average Stacking"
      ]
    },
    {
      "cell_type": "code",
      "execution_count": 33,
      "metadata": {},
      "outputs": [],
      "source": [
        "y_average = np.mean([y_pred_lgbm, y_pred_cb], axis = 0)"
      ]
    },
    {
      "cell_type": "code",
      "execution_count": 34,
      "metadata": {},
      "outputs": [],
      "source": [
        "predictions = zip(range(len(y_average)), y_average)\n",
        "with open(\"data/submission_average.csv\",\"w\") as pred:\n",
        "    csv_out = csv.writer(pred)\n",
        "    csv_out.writerow(['id','predicted'])\n",
        "    for row in predictions:\n",
        "        csv_out.writerow(row)"
      ]
    },
    {
      "cell_type": "markdown",
      "metadata": {},
      "source": [
        "### SHAP"
      ]
    },
    {
      "cell_type": "code",
      "execution_count": 114,
      "metadata": {},
      "outputs": [
        {
          "data": {
            "image/png": "[encoded data removed]",
            "text/plain": [
              "<Figure size 576x1231.2 with 2 Axes>"
            ]
          },
          "metadata": {
            "needs_background": "light"
          },
          "output_type": "display_data"
        }
      ],
      "source": [
        "explainer = shap.LinearExplainer(model, X_train)\n",
        "shap_values = explainer.shap_values(X_test)\n",
        "shap.summary_plot(shap_values, X_test, use_log_scale=True, max_display=X_train.shape[1])"
      ]
    },
    {
      "cell_type": "code",
      "execution_count": 98,
      "metadata": {},
      "outputs": [],
      "source": [
        "mask = [11, 10, 23, 22]\n",
        "X_train, X_test = np.delete(X_train, mask, axis=1), np.delete(X_test, mask, axis=1)"
      ]
    },
    {
      "cell_type": "code",
      "execution_count": 99,
      "metadata": {},
      "outputs": [
        {
          "name": "stdout",
          "output_type": "stream",
          "text": [
            "Creating submission\n",
            "Submision created\n"
          ]
        }
      ],
      "source": [
        "y_pred, model = train(X_train, X_test, y_train, y_test = None, model = LogisticRegression(max_iter = 1500))"
      ]
    }
  ],
  "metadata": {
    "colab": {
      "name": "ALTEGRAD_project.ipynb",
      "provenance": []
    },
    "kernelspec": {
      "display_name": "Python 3",
      "name": "python3"
    },
    "language_info": {
      "codemirror_mode": {
        "name": "ipython",
        "version": 3
      },
      "file_extension": ".py",
      "mimetype": "text/x-python",
      "name": "python",
      "nbconvert_exporter": "python",
      "pygments_lexer": "ipython3",
      "version": "3.9.7"
    }
  },
  "nbformat": 4,
  "nbformat_minor": 0
}
